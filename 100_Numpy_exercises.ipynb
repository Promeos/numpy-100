{
 "cells": [
  {
   "cell_type": "markdown",
   "metadata": {},
   "source": [
    "# 100 numpy exercises\n",
    "\n",
    "This is a collection of exercises that have been collected in the numpy mailing list, on stack overflow\n",
    "and in the numpy documentation. The goal of this collection is to offer a quick reference for both old\n",
    "and new users but also to provide a set of exercises for those who teach.\n",
    "\n",
    "\n",
    "If you find an error or think you've a better way to solve some of them, feel\n",
    "free to open an issue at <https://github.com/rougier/numpy-100>."
   ]
  },
  {
   "cell_type": "markdown",
   "metadata": {},
   "source": [
    "File automatically generated. See the documentation to update questions/answers/hints programmatically."
   ]
  },
  {
   "cell_type": "code",
   "execution_count": 1,
   "metadata": {},
   "outputs": [],
   "source": [
    "import matplotlib.pyplot as plt"
   ]
  },
  {
   "cell_type": "markdown",
   "metadata": {},
   "source": [
    "#### 1. Import the numpy package under the name `np` (★☆☆)"
   ]
  },
  {
   "cell_type": "code",
   "execution_count": 2,
   "metadata": {
    "ExecuteTime": {
     "end_time": "2020-08-11T04:29:56.008153Z",
     "start_time": "2020-08-11T04:29:55.461656Z"
    }
   },
   "outputs": [],
   "source": [
    "import numpy as np\n",
    "np.random.seed(123)"
   ]
  },
  {
   "cell_type": "markdown",
   "metadata": {},
   "source": [
    "#### 2. Print the numpy version and the configuration (★☆☆)"
   ]
  },
  {
   "cell_type": "code",
   "execution_count": 3,
   "metadata": {
    "ExecuteTime": {
     "end_time": "2020-08-11T04:29:57.162221Z",
     "start_time": "2020-08-11T04:29:57.152603Z"
    }
   },
   "outputs": [
    {
     "data": {
      "text/plain": [
       "'1.18.1'"
      ]
     },
     "execution_count": 3,
     "metadata": {},
     "output_type": "execute_result"
    }
   ],
   "source": [
    "np.__version__"
   ]
  },
  {
   "cell_type": "markdown",
   "metadata": {},
   "source": [
    "#### 3. Create a null vector of size 10 (★☆☆)"
   ]
  },
  {
   "cell_type": "code",
   "execution_count": 4,
   "metadata": {
    "ExecuteTime": {
     "end_time": "2020-08-11T04:29:57.667985Z",
     "start_time": "2020-08-11T04:29:57.665413Z"
    },
    "tags": []
   },
   "outputs": [
    {
     "name": "stdout",
     "output_type": "stream",
     "text": [
      "[nan nan nan nan nan nan nan nan nan nan]\n",
      "(10,)\n"
     ]
    }
   ],
   "source": [
    "null_vector = np.full(10, np.NaN)\n",
    "print(null_vector)\n",
    "print(null_vector.shape)"
   ]
  },
  {
   "cell_type": "markdown",
   "metadata": {},
   "source": [
    "#### 4. How to find the memory size of any array (★☆☆)"
   ]
  },
  {
   "cell_type": "code",
   "execution_count": 5,
   "metadata": {
    "ExecuteTime": {
     "end_time": "2020-08-11T04:29:58.125256Z",
     "start_time": "2020-08-11T04:29:58.122008Z"
    },
    "tags": []
   },
   "outputs": [
    {
     "name": "stdout",
     "output_type": "stream",
     "text": [
      "80 bytes\n"
     ]
    }
   ],
   "source": [
    "print(\"{} bytes\".format(null_vector.itemsize * null_vector.size))"
   ]
  },
  {
   "cell_type": "markdown",
   "metadata": {},
   "source": [
    "#### 5. How to get the documentation of the numpy add function from the command line? (★☆☆)"
   ]
  },
  {
   "cell_type": "code",
   "execution_count": 6,
   "metadata": {
    "ExecuteTime": {
     "end_time": "2020-08-11T04:30:06.195904Z",
     "start_time": "2020-08-11T04:30:06.188689Z"
    }
   },
   "outputs": [],
   "source": [
    "# ! np.add?"
   ]
  },
  {
   "cell_type": "markdown",
   "metadata": {},
   "source": [
    "#### 6. Create a null vector of size 10 but the fifth value which is 1 (★☆☆)"
   ]
  },
  {
   "cell_type": "code",
   "execution_count": 7,
   "metadata": {
    "ExecuteTime": {
     "end_time": "2020-08-10T20:04:32.271204Z",
     "start_time": "2020-08-10T20:04:32.267939Z"
    },
    "tags": []
   },
   "outputs": [
    {
     "name": "stdout",
     "output_type": "stream",
     "text": [
      "[0. 0. 0. 0. 1. 0. 0. 0. 0. 0.]\n"
     ]
    }
   ],
   "source": [
    "null_vector = np.zeros(10)\n",
    "null_vector[4] = 1\n",
    "print(null_vector)"
   ]
  },
  {
   "cell_type": "markdown",
   "metadata": {},
   "source": [
    "#### 7. Create a vector with values ranging from 10 to 49 (★☆☆)"
   ]
  },
  {
   "cell_type": "code",
   "execution_count": 8,
   "metadata": {
    "ExecuteTime": {
     "end_time": "2020-08-10T20:00:46.160182Z",
     "start_time": "2020-08-10T20:00:46.155808Z"
    }
   },
   "outputs": [
    {
     "data": {
      "text/plain": [
       "array([10, 11, 12, 13, 14, 15, 16, 17, 18, 19, 20, 21, 22, 23, 24, 25, 26,\n",
       "       27, 28, 29, 30, 31, 32, 33, 34, 35, 36, 37, 38, 39, 40, 41, 42, 43,\n",
       "       44, 45, 46, 47, 48, 49])"
      ]
     },
     "execution_count": 8,
     "metadata": {},
     "output_type": "execute_result"
    }
   ],
   "source": [
    "np.arange(10, 50)"
   ]
  },
  {
   "cell_type": "markdown",
   "metadata": {},
   "source": [
    "#### 8. Reverse a vector (first element becomes last) (★☆☆)"
   ]
  },
  {
   "cell_type": "code",
   "execution_count": 9,
   "metadata": {
    "ExecuteTime": {
     "end_time": "2020-08-10T20:00:10.888224Z",
     "start_time": "2020-08-10T20:00:10.884275Z"
    }
   },
   "outputs": [
    {
     "data": {
      "text/plain": [
       "array([49, 48, 47, 46, 45, 44, 43, 42, 41, 40, 39, 38, 37, 36, 35, 34, 33,\n",
       "       32, 31, 30, 29, 28, 27, 26, 25, 24, 23, 22, 21, 20, 19, 18, 17, 16,\n",
       "       15, 14, 13, 12, 11, 10])"
      ]
     },
     "execution_count": 9,
     "metadata": {},
     "output_type": "execute_result"
    }
   ],
   "source": [
    "np.arange(10, 50)[::-1]"
   ]
  },
  {
   "cell_type": "markdown",
   "metadata": {},
   "source": [
    "#### 9. Create a 3x3 matrix with values ranging from 0 to 8 (★☆☆)"
   ]
  },
  {
   "cell_type": "code",
   "execution_count": 10,
   "metadata": {
    "ExecuteTime": {
     "end_time": "2020-08-10T19:58:07.097417Z",
     "start_time": "2020-08-10T19:58:07.092482Z"
    }
   },
   "outputs": [
    {
     "data": {
      "text/plain": [
       "array([[0, 1, 2],\n",
       "       [3, 4, 5],\n",
       "       [6, 7, 8]])"
      ]
     },
     "execution_count": 10,
     "metadata": {},
     "output_type": "execute_result"
    }
   ],
   "source": [
    "np.arange(0, 9).reshape(3, 3)"
   ]
  },
  {
   "cell_type": "markdown",
   "metadata": {},
   "source": [
    "#### 10. Find indices of non-zero elements from [1,2,0,0,4,0] (★☆☆)"
   ]
  },
  {
   "cell_type": "code",
   "execution_count": 11,
   "metadata": {
    "ExecuteTime": {
     "end_time": "2020-08-10T19:59:55.329243Z",
     "start_time": "2020-08-10T19:59:55.325449Z"
    }
   },
   "outputs": [
    {
     "data": {
      "text/plain": [
       "(array([0, 1, 4]),)"
      ]
     },
     "execution_count": 11,
     "metadata": {},
     "output_type": "execute_result"
    }
   ],
   "source": [
    "# np.nonzero returns the indicies where non-zero values are located.\n",
    "np.nonzero([1, 2, 0, 0, 4, 0])"
   ]
  },
  {
   "cell_type": "markdown",
   "metadata": {},
   "source": [
    "#### 11. Create a 3x3 identity matrix (★☆☆)"
   ]
  },
  {
   "cell_type": "code",
   "execution_count": 12,
   "metadata": {
    "ExecuteTime": {
     "end_time": "2020-08-10T19:58:44.006130Z",
     "start_time": "2020-08-10T19:58:44.000539Z"
    }
   },
   "outputs": [
    {
     "data": {
      "text/plain": [
       "array([[1., 0., 0.],\n",
       "       [0., 1., 0.],\n",
       "       [0., 0., 1.]])"
      ]
     },
     "execution_count": 12,
     "metadata": {},
     "output_type": "execute_result"
    }
   ],
   "source": [
    "# np.eye returns a matrix with a diagonal of ones. The diagonal is placed in the \n",
    "# left upper left corner to the bottom right corner of an array.\n",
    "\n",
    "np.eye(3, 3)"
   ]
  },
  {
   "cell_type": "markdown",
   "metadata": {},
   "source": [
    "#### 12. Create a 3x3x3 array with random values (★☆☆)"
   ]
  },
  {
   "cell_type": "code",
   "execution_count": 13,
   "metadata": {
    "ExecuteTime": {
     "end_time": "2020-08-10T19:58:58.021515Z",
     "start_time": "2020-08-10T19:58:58.016787Z"
    }
   },
   "outputs": [
    {
     "data": {
      "text/plain": [
       "array([[[-1.0856306 ,  0.99734545,  0.2829785 ],\n",
       "        [-1.50629471, -0.57860025,  1.65143654],\n",
       "        [-2.42667924, -0.42891263,  1.26593626]],\n",
       "\n",
       "       [[-0.8667404 , -0.67888615, -0.09470897],\n",
       "        [ 1.49138963, -0.638902  , -0.44398196],\n",
       "        [-0.43435128,  2.20593008,  2.18678609]],\n",
       "\n",
       "       [[ 1.0040539 ,  0.3861864 ,  0.73736858],\n",
       "        [ 1.49073203, -0.93583387,  1.17582904],\n",
       "        [-1.25388067, -0.6377515 ,  0.9071052 ]]])"
      ]
     },
     "execution_count": 13,
     "metadata": {},
     "output_type": "execute_result"
    }
   ],
   "source": [
    "# np.random.randn function creates an array with d0, d1,..., dn\n",
    "# The randn method creates a 3, 3x3 multidimensional arrays. \n",
    "\n",
    "np.random.randn(3, 3, 3)"
   ]
  },
  {
   "cell_type": "markdown",
   "metadata": {},
   "source": [
    "#### 13. Create a 10x10 array with random values and find the minimum and maximum values (★☆☆)"
   ]
  },
  {
   "cell_type": "code",
   "execution_count": 14,
   "metadata": {
    "ExecuteTime": {
     "end_time": "2020-08-10T20:05:25.430014Z",
     "start_time": "2020-08-10T20:05:25.425750Z"
    }
   },
   "outputs": [
    {
     "name": "stdout",
     "output_type": "stream",
     "text": [
      "[[-1.4286807  -0.14006872 -0.8617549  -0.25561937 -2.79858911 -1.7715331\n",
      "  -0.69987723  0.92746243 -0.17363568  0.00284592]\n",
      " [ 0.68822271 -0.87953634  0.28362732 -0.80536652 -1.72766949 -0.39089979\n",
      "   0.57380586  0.33858905 -0.01183049  2.39236527]\n",
      " [ 0.41291216  0.97873601  2.23814334 -1.29408532 -1.03878821  1.74371223\n",
      "  -0.79806274  0.02968323  1.06931597  0.89070639]\n",
      " [ 1.75488618  1.49564414  1.06939267 -0.77270871  0.79486267  0.31427199\n",
      "  -1.32626546  1.41729905  0.80723653  0.04549008]\n",
      " [-0.23309206 -1.19830114  0.19952407  0.46843912 -0.83115498  1.16220405\n",
      "  -1.09720305 -2.12310035  1.03972709 -0.40336604]\n",
      " [-0.12602959 -0.83751672 -1.60596276  1.25523737 -0.68886898  1.66095249\n",
      "   0.80730819 -0.31475815 -1.0859024  -0.73246199]\n",
      " [-1.21252313  2.08711336  0.16444123  1.15020554 -1.26735205  0.18103513\n",
      "   1.17786194 -0.33501076  1.03111446 -1.08456791]\n",
      " [-1.36347154  0.37940061 -0.37917643  0.64205469 -1.97788793  0.71226464\n",
      "   2.59830393 -0.02462598  0.03414213  0.17954948]\n",
      " [-1.86197571  0.42614664 -1.60540974 -0.4276796   1.24286955 -0.73521696\n",
      "   0.50124899  1.01273905  0.27874086 -1.37094847]\n",
      " [-0.33247528  1.95941134 -2.02504576 -0.27578601 -0.55210807  0.12074736\n",
      "   0.74821562  1.60869097 -0.27023239  0.81234133]]\n",
      "-2.7985891054607244\n",
      "2.5983039272693147\n"
     ]
    }
   ],
   "source": [
    "a = np.random.randn(10, 10)\n",
    "print(a)\n",
    "print(a.min())\n",
    "print(a.max())"
   ]
  },
  {
   "cell_type": "markdown",
   "metadata": {},
   "source": [
    "#### 14. Create a random vector of size 30 and find the mean value (★☆☆)"
   ]
  },
  {
   "cell_type": "code",
   "execution_count": 15,
   "metadata": {
    "ExecuteTime": {
     "end_time": "2020-08-10T20:06:37.690358Z",
     "start_time": "2020-08-10T20:06:37.686504Z"
    }
   },
   "outputs": [
    {
     "data": {
      "text/plain": [
       "0.0497014934515546"
      ]
     },
     "execution_count": 15,
     "metadata": {},
     "output_type": "execute_result"
    }
   ],
   "source": [
    "np.random.randn(30).mean()"
   ]
  },
  {
   "cell_type": "markdown",
   "metadata": {},
   "source": [
    "#### 15. Create a 2d array with 1 on the border and 0 inside (★☆☆)"
   ]
  },
  {
   "cell_type": "code",
   "execution_count": 16,
   "metadata": {
    "ExecuteTime": {
     "end_time": "2020-08-10T20:08:28.782265Z",
     "start_time": "2020-08-10T20:08:28.778734Z"
    },
    "tags": []
   },
   "outputs": [
    {
     "name": "stdout",
     "output_type": "stream",
     "text": [
      "[[1. 1. 1.]\n",
      " [1. 0. 1.]\n",
      " [1. 1. 1.]]\n"
     ]
    }
   ],
   "source": [
    "a = np.ones((3, 3))\n",
    "a[1][1] = 0\n",
    "print(a)"
   ]
  },
  {
   "cell_type": "markdown",
   "metadata": {},
   "source": [
    "#### 16. How to add a border (filled with 0's) around an existing array? (★☆☆)"
   ]
  },
  {
   "cell_type": "code",
   "execution_count": 17,
   "metadata": {
    "ExecuteTime": {
     "end_time": "2020-08-10T20:09:19.827867Z",
     "start_time": "2020-08-10T20:09:19.823154Z"
    }
   },
   "outputs": [
    {
     "data": {
      "text/plain": [
       "array([[0., 0., 0., 0., 0.],\n",
       "       [0., 1., 1., 1., 0.],\n",
       "       [0., 1., 0., 1., 0.],\n",
       "       [0., 1., 1., 1., 0.],\n",
       "       [0., 0., 0., 0., 0.]])"
      ]
     },
     "execution_count": 17,
     "metadata": {},
     "output_type": "execute_result"
    }
   ],
   "source": [
    "padded_array = np.pad(a, 1)\n",
    "padded_array"
   ]
  },
  {
   "cell_type": "markdown",
   "metadata": {},
   "source": [
    "#### 17. What is the result of the following expression? (★☆☆)\n",
    "```python\n",
    "0 * np.nan\n",
    "np.nan == np.nan\n",
    "np.inf > np.nan\n",
    "np.nan - np.nan\n",
    "np.nan in set([np.nan])\n",
    "0.3 == 3 * 0.1\n",
    "```"
   ]
  },
  {
   "cell_type": "code",
   "execution_count": 18,
   "metadata": {
    "ExecuteTime": {
     "end_time": "2020-08-10T20:14:24.863831Z",
     "start_time": "2020-08-10T20:14:24.859104Z"
    },
    "tags": []
   },
   "outputs": [
    {
     "name": "stdout",
     "output_type": "stream",
     "text": [
      "nan\n",
      "False\n",
      "False\n",
      "nan\n",
      "True\n",
      "False\n",
      "0\n"
     ]
    }
   ],
   "source": [
    "# First time performing computation and comparison on np.nan\n",
    "# It has no value yet, nothing is greater than np.nan... not even\n",
    "# Infinity! Non-existence/absence of value is greater than\n",
    "# That which has value... It's not even equal to itself?! \n",
    "# np.nan only recognizes itself inside a set. Noted.\n",
    "print(0 * np.nan)\n",
    "print(np.nan == np.nan)\n",
    "print(1 > np.nan)\n",
    "print(np.nan - np.nan)\n",
    "print(np.nan in set([np.nan]))\n",
    "print(0.3 == 3 * 0.1)\n",
    "print(0-0)"
   ]
  },
  {
   "cell_type": "markdown",
   "metadata": {},
   "source": [
    "#### 18. Create a 5x5 matrix with values 1,2,3,4 just below the diagonal (★☆☆)"
   ]
  },
  {
   "cell_type": "code",
   "execution_count": 19,
   "metadata": {
    "ExecuteTime": {
     "end_time": "2020-08-11T04:49:42.864168Z",
     "start_time": "2020-08-11T04:49:42.860207Z"
    }
   },
   "outputs": [
    {
     "data": {
      "text/plain": [
       "array([[0, 0, 0, 0, 0],\n",
       "       [1, 0, 0, 0, 0],\n",
       "       [0, 2, 0, 0, 0],\n",
       "       [0, 0, 3, 0, 0],\n",
       "       [0, 0, 0, 4, 0]])"
      ]
     },
     "execution_count": 19,
     "metadata": {},
     "output_type": "execute_result"
    }
   ],
   "source": [
    "np.diagflat([1, 2, 3, 4], -1)"
   ]
  },
  {
   "cell_type": "markdown",
   "metadata": {},
   "source": [
    "#### 19. Create a 8x8 matrix and fill it with a checkerboard pattern (★☆☆)"
   ]
  },
  {
   "cell_type": "code",
   "execution_count": 20,
   "metadata": {
    "ExecuteTime": {
     "end_time": "2020-08-11T05:51:26.338847Z",
     "start_time": "2020-08-11T05:51:26.334434Z"
    }
   },
   "outputs": [
    {
     "name": "stdout",
     "output_type": "stream",
     "text": [
      "[[0. 1. 0. 1. 0. 1. 0. 1.]\n",
      " [1. 0. 1. 0. 1. 0. 1. 0.]\n",
      " [0. 1. 0. 1. 0. 1. 0. 1.]\n",
      " [1. 0. 1. 0. 1. 0. 1. 0.]\n",
      " [0. 1. 0. 1. 0. 1. 0. 1.]\n",
      " [1. 0. 1. 0. 1. 0. 1. 0.]\n",
      " [0. 1. 0. 1. 0. 1. 0. 1.]\n",
      " [1. 0. 1. 0. 1. 0. 1. 0.]]\n"
     ]
    }
   ],
   "source": [
    "a = np.zeros(64).reshape(8, 8)\n",
    "a[1::2, ::2] = 1\n",
    "a[::2, 1::2] = 1\n",
    "print(a)"
   ]
  },
  {
   "cell_type": "code",
   "execution_count": 21,
   "metadata": {
    "ExecuteTime": {
     "end_time": "2020-08-11T05:32:27.873468Z",
     "start_time": "2020-08-11T05:32:27.869516Z"
    }
   },
   "outputs": [],
   "source": [
    "# np.put?"
   ]
  },
  {
   "cell_type": "markdown",
   "metadata": {},
   "source": [
    "#### 20. Consider a (6,7,8) shape array, what is the index (x,y,z) of the 100th element?"
   ]
  },
  {
   "cell_type": "code",
   "execution_count": 22,
   "metadata": {
    "ExecuteTime": {
     "end_time": "2020-08-11T05:12:58.902820Z",
     "start_time": "2020-08-11T05:12:58.899225Z"
    }
   },
   "outputs": [],
   "source": [
    "a = np.random.randn(6, 7, 8)"
   ]
  },
  {
   "cell_type": "code",
   "execution_count": 23,
   "metadata": {
    "ExecuteTime": {
     "end_time": "2020-08-11T05:12:58.902820Z",
     "start_time": "2020-08-11T05:12:58.899225Z"
    }
   },
   "outputs": [
    {
     "data": {
      "text/plain": [
       "0.5907042178943853"
      ]
     },
     "execution_count": 23,
     "metadata": {},
     "output_type": "execute_result"
    }
   ],
   "source": [
    "# a.take(99)\n",
    "a.item(99)"
   ]
  },
  {
   "cell_type": "markdown",
   "metadata": {},
   "source": [
    "#### 21. Create a checkerboard 8x8 matrix using the tile function (★☆☆)"
   ]
  },
  {
   "cell_type": "code",
   "execution_count": 24,
   "metadata": {},
   "outputs": [
    {
     "name": "stdout",
     "output_type": "stream",
     "text": [
      "[[0 1 0 1 0 1 0 1]\n",
      " [1 0 1 0 1 0 1 0]\n",
      " [0 1 0 1 0 1 0 1]\n",
      " [1 0 1 0 1 0 1 0]\n",
      " [0 1 0 1 0 1 0 1]\n",
      " [1 0 1 0 1 0 1 0]\n",
      " [0 1 0 1 0 1 0 1]\n",
      " [1 0 1 0 1 0 1 0]]\n"
     ]
    }
   ],
   "source": [
    "a = np.tile([[0, 1], [1, 0]], (4, 4))\n",
    "print(a)"
   ]
  },
  {
   "cell_type": "markdown",
   "metadata": {},
   "source": [
    "#### 22. Normalize a 5x5 random matrix (★☆☆)"
   ]
  },
  {
   "cell_type": "code",
   "execution_count": 25,
   "metadata": {},
   "outputs": [],
   "source": [
    "rand_arr_5x5 = np.random.randn(5, 5)\n",
    "num_min, num_max = rand_arr_5x5.min(), rand_arr_5x5.max()\n",
    "num_mean, num_std = rand_arr_5x5.mean(), rand_arr_5x5.std()"
   ]
  },
  {
   "cell_type": "code",
   "execution_count": 26,
   "metadata": {},
   "outputs": [
    {
     "data": {
      "text/plain": [
       "array([[-0.43860693, -1.41118649,  0.57240611,  0.5051088 , -0.15674959],\n",
       "       [ 0.25821525, -0.29788268,  0.79815603, -0.03837468, -0.44914981],\n",
       "       [ 1.01581171,  1.42186773,  1.51580992, -1.33770207, -0.77891303],\n",
       "       [-2.20957299, -0.41619746,  0.38637141, -0.28654385,  2.24324251],\n",
       "       [-0.62126037, -1.45812484,  0.57317123,  0.06005487,  0.55004919]])"
      ]
     },
     "execution_count": 26,
     "metadata": {},
     "output_type": "execute_result"
    }
   ],
   "source": [
    "normed_array = (rand_arr_5x5 - num_mean)/num_std\n",
    "normed_array"
   ]
  },
  {
   "cell_type": "markdown",
   "metadata": {},
   "source": [
    "## 23 a.\n",
    "### Normalization"
   ]
  },
  {
   "cell_type": "code",
   "execution_count": 27,
   "metadata": {},
   "outputs": [
    {
     "data": {
      "text/plain": [
       "array([[0.39771827, 0.17929926, 0.62476855, 0.60965513, 0.46101695],\n",
       "       [0.55420851, 0.4293217 , 0.6754668 , 0.48760123, 0.39535058],\n",
       "       [0.72434726, 0.81553811, 0.83663536, 0.19580217, 0.32129334],\n",
       "       [0.        , 0.40275092, 0.58298944, 0.43186814, 1.        ],\n",
       "       [0.3566985 , 0.16875798, 0.62494038, 0.50970624, 0.6197477 ]])"
      ]
     },
     "execution_count": 27,
     "metadata": {},
     "output_type": "execute_result"
    }
   ],
   "source": [
    "norm_arr_5x5 = (rand_arr_5x5 - num_min) / (num_max - num_min)\n",
    "norm_arr_5x5"
   ]
  },
  {
   "cell_type": "code",
   "execution_count": 28,
   "metadata": {},
   "outputs": [
    {
     "data": {
      "text/plain": [
       "array([[1.15292349, 3.02981396, 8.21149106],\n",
       "       [8.87913846, 5.08590833, 4.28968556],\n",
       "       [3.4680251 , 2.05273462, 2.04170082]])"
      ]
     },
     "execution_count": 28,
     "metadata": {},
     "output_type": "execute_result"
    }
   ],
   "source": [
    "int_array5x5 = np.random.uniform(1, 10, size=(3, 3))\n",
    "int_array5x5"
   ]
  },
  {
   "cell_type": "markdown",
   "metadata": {},
   "source": [
    "### Standardization"
   ]
  },
  {
   "cell_type": "code",
   "execution_count": 29,
   "metadata": {},
   "outputs": [
    {
     "data": {
      "text/plain": [
       "array([[-0.06249555, -0.25553904,  0.13817645,  0.12481887, -0.0065508 ],\n",
       "       [ 0.07581394, -0.03456375,  0.18298466,  0.01694497, -0.06458817],\n",
       "       [ 0.22618628,  0.30678274,  0.32542896, -0.24095341, -0.13004157],\n",
       "       [-0.41400764, -0.05804758,  0.10125115, -0.03231315,  0.46981419],\n",
       "       [-0.09874972, -0.26485565,  0.13832831,  0.03648186,  0.13373891]])"
      ]
     },
     "execution_count": 29,
     "metadata": {},
     "output_type": "execute_result"
    }
   ],
   "source": [
    "rand_arr_5x5/ np.linalg.norm(rand_arr_5x5)"
   ]
  },
  {
   "cell_type": "markdown",
   "metadata": {},
   "source": [
    "#### 23. Create a custom dtype that describes a color as four unsigned bytes (RGBA) (★☆☆)"
   ]
  },
  {
   "cell_type": "code",
   "execution_count": 30,
   "metadata": {},
   "outputs": [],
   "source": [
    "custom = np.dtype([(\"R\", np.ubyte),\n",
    "                   (\"G\", np.ubyte),\n",
    "                   (\"B\", np.ubyte),\n",
    "                   (\"A\", np.ubyte)])"
   ]
  },
  {
   "cell_type": "markdown",
   "metadata": {},
   "source": [
    "#### 24. Multiply a 5x3 matrix by a 3x2 matrix (real matrix product) (★☆☆)"
   ]
  },
  {
   "cell_type": "code",
   "execution_count": 31,
   "metadata": {},
   "outputs": [
    {
     "data": {
      "text/plain": [
       "array([[ 10,  13],\n",
       "       [ 28,  40],\n",
       "       [ 46,  67],\n",
       "       [ 64,  94],\n",
       "       [ 82, 121]])"
      ]
     },
     "execution_count": 31,
     "metadata": {},
     "output_type": "execute_result"
    }
   ],
   "source": [
    "arr_1 = np.arange(15).reshape(5, 3)\n",
    "arr_2 = np.arange(6).reshape(3, 2)\n",
    "np.dot(arr_1, arr_2)"
   ]
  },
  {
   "cell_type": "markdown",
   "metadata": {},
   "source": [
    "#### 25. Given a 1D array, negate all elements which are between 3 and 8, in place. (★☆☆)"
   ]
  },
  {
   "cell_type": "code",
   "execution_count": 32,
   "metadata": {
    "tags": []
   },
   "outputs": [
    {
     "name": "stdout",
     "output_type": "stream",
     "text": [
      "[ 0  1  2 -3 -4 -5 -6 -7 -8  9]\n"
     ]
    }
   ],
   "source": [
    "array = np.arange(10)\n",
    "\n",
    "between_3_and_8 = (array >= 3) & (array <= 8)\n",
    "array[between_3_and_8] *= -1\n",
    "\n",
    "print(array)"
   ]
  },
  {
   "cell_type": "markdown",
   "metadata": {},
   "source": [
    "#### 26. What is the output of the following script? (★☆☆)\n",
    "```python\n",
    "# Author: Jake VanderPlas\n",
    "\n",
    "print(sum(range(5),-1))\n",
    "from numpy import *\n",
    "print(sum(range(5),-1))\n",
    "```"
   ]
  },
  {
   "cell_type": "code",
   "execution_count": 33,
   "metadata": {
    "tags": []
   },
   "outputs": [
    {
     "name": "stdout",
     "output_type": "stream",
     "text": [
      "9\n"
     ]
    }
   ],
   "source": [
    "print(sum(range(5), -1))"
   ]
  },
  {
   "cell_type": "markdown",
   "metadata": {},
   "source": [
    "Importing modules directly from numpy causes a Namespace collision between Python's built-in `range` function and numpy's `range` function."
   ]
  },
  {
   "cell_type": "code",
   "execution_count": 34,
   "metadata": {
    "tags": []
   },
   "outputs": [
    {
     "name": "stdout",
     "output_type": "stream",
     "text": [
      "10\n"
     ]
    }
   ],
   "source": [
    "from numpy import *\n",
    "print(sum(range(5), -1))"
   ]
  },
  {
   "cell_type": "markdown",
   "metadata": {},
   "source": [
    "#### 27. Consider an integer vector Z, which of these expressions are legal? (★☆☆)\n",
    "```python\n",
    "Z**Z\n",
    "2 << Z >> 2\n",
    "Z <- Z\n",
    "1j*Z\n",
    "Z/1/1\n",
    "Z<Z>Z\n",
    "```"
   ]
  },
  {
   "cell_type": "code",
   "execution_count": 35,
   "metadata": {},
   "outputs": [],
   "source": [
    "vector = np.arange(0, 10)"
   ]
  },
  {
   "cell_type": "code",
   "execution_count": 36,
   "metadata": {},
   "outputs": [
    {
     "data": {
      "text/plain": [
       "array([ 0,  1,  4,  9, 16, 25, 36, 49, 64, 81])"
      ]
     },
     "execution_count": 36,
     "metadata": {},
     "output_type": "execute_result"
    }
   ],
   "source": [
    "vector * vector"
   ]
  },
  {
   "cell_type": "code",
   "execution_count": 37,
   "metadata": {},
   "outputs": [
    {
     "data": {
      "text/plain": [
       "array([  0,   1,   2,   4,   8,  16,  32,  64, 128, 256])"
      ]
     },
     "execution_count": 37,
     "metadata": {},
     "output_type": "execute_result"
    }
   ],
   "source": [
    "2 << vector >> 2"
   ]
  },
  {
   "cell_type": "code",
   "execution_count": 38,
   "metadata": {},
   "outputs": [
    {
     "data": {
      "text/plain": [
       "array([False, False, False, False, False, False, False, False, False,\n",
       "       False])"
      ]
     },
     "execution_count": 38,
     "metadata": {},
     "output_type": "execute_result"
    }
   ],
   "source": [
    "vector <- vector"
   ]
  },
  {
   "cell_type": "code",
   "execution_count": 39,
   "metadata": {},
   "outputs": [
    {
     "data": {
      "text/plain": [
       "array([0.+0.j, 0.+1.j, 0.+2.j, 0.+3.j, 0.+4.j, 0.+5.j, 0.+6.j, 0.+7.j,\n",
       "       0.+8.j, 0.+9.j])"
      ]
     },
     "execution_count": 39,
     "metadata": {},
     "output_type": "execute_result"
    }
   ],
   "source": [
    "1j*vector"
   ]
  },
  {
   "cell_type": "code",
   "execution_count": 40,
   "metadata": {},
   "outputs": [
    {
     "data": {
      "text/plain": [
       "array([0., 1., 2., 3., 4., 5., 6., 7., 8., 9.])"
      ]
     },
     "execution_count": 40,
     "metadata": {},
     "output_type": "execute_result"
    }
   ],
   "source": [
    "vector/1/1"
   ]
  },
  {
   "cell_type": "code",
   "execution_count": 41,
   "metadata": {},
   "outputs": [
    {
     "data": {
      "text/plain": [
       "array([0, 1, 2, 3, 4, 5, 6, 7, 8, 9])"
      ]
     },
     "execution_count": 41,
     "metadata": {},
     "output_type": "execute_result"
    }
   ],
   "source": [
    "vector << vector >> vector"
   ]
  },
  {
   "cell_type": "markdown",
   "metadata": {},
   "source": [
    "#### 28. What are the result of the following expressions?\n",
    "```python\n",
    "np.array(0) / np.array(0)\n",
    "np.array(0) // np.array(0)\n",
    "np.array([np.nan]).astype(int).astype(float)\n",
    "```"
   ]
  },
  {
   "cell_type": "code",
   "execution_count": 42,
   "metadata": {},
   "outputs": [
    {
     "name": "stderr",
     "output_type": "stream",
     "text": [
      "/usr/local/anaconda3/lib/python3.7/site-packages/ipykernel_launcher.py:1: RuntimeWarning: invalid value encountered in true_divide\n",
      "  \"\"\"Entry point for launching an IPython kernel.\n"
     ]
    },
    {
     "data": {
      "text/plain": [
       "nan"
      ]
     },
     "execution_count": 42,
     "metadata": {},
     "output_type": "execute_result"
    }
   ],
   "source": [
    "np.array(0) / np.array(0)"
   ]
  },
  {
   "cell_type": "code",
   "execution_count": 43,
   "metadata": {},
   "outputs": [
    {
     "name": "stderr",
     "output_type": "stream",
     "text": [
      "/usr/local/anaconda3/lib/python3.7/site-packages/ipykernel_launcher.py:1: RuntimeWarning: divide by zero encountered in floor_divide\n",
      "  \"\"\"Entry point for launching an IPython kernel.\n"
     ]
    },
    {
     "data": {
      "text/plain": [
       "0"
      ]
     },
     "execution_count": 43,
     "metadata": {},
     "output_type": "execute_result"
    }
   ],
   "source": [
    "np.array(0) // np.array(0)"
   ]
  },
  {
   "cell_type": "code",
   "execution_count": 44,
   "metadata": {},
   "outputs": [
    {
     "data": {
      "text/plain": [
       "array([-9.22337204e+18])"
      ]
     },
     "execution_count": 44,
     "metadata": {},
     "output_type": "execute_result"
    }
   ],
   "source": [
    "np.array([np.nan]).astype(int).astype(float)"
   ]
  },
  {
   "cell_type": "markdown",
   "metadata": {},
   "source": [
    "#### 29. How to round away from zero a float array ? (★☆☆)"
   ]
  },
  {
   "cell_type": "code",
   "execution_count": 45,
   "metadata": {},
   "outputs": [],
   "source": [
    "Z = np.random.randn(5, 5)"
   ]
  },
  {
   "cell_type": "code",
   "execution_count": 46,
   "metadata": {
    "tags": []
   },
   "outputs": [
    {
     "name": "stdout",
     "output_type": "stream",
     "text": [
      "[[-0.44845238 -0.51316102  1.20424839  0.70777496 -0.43635112]\n",
      " [ 0.40220193  1.64721067  1.68104532  0.07458696  0.2210926 ]\n",
      " [ 0.57106072  2.58278269 -0.37913876  0.25471068 -2.0678196 ]\n",
      " [-0.01616918  1.17710281 -0.51116767  1.33341973 -0.58056172]\n",
      " [ 1.1807691  -0.20431628 -0.03607106 -0.81003773 -1.70641966]]\n"
     ]
    }
   ],
   "source": [
    "print(Z)"
   ]
  },
  {
   "cell_type": "code",
   "execution_count": 47,
   "metadata": {},
   "outputs": [
    {
     "data": {
      "text/plain": [
       "array([[-1., -1.,  2.,  1., -1.],\n",
       "       [ 1.,  2.,  2.,  1.,  1.],\n",
       "       [ 1.,  3., -1.,  1., -3.],\n",
       "       [-1.,  2., -1.,  2., -1.],\n",
       "       [ 2., -1., -1., -1., -2.]])"
      ]
     },
     "execution_count": 47,
     "metadata": {},
     "output_type": "execute_result"
    }
   ],
   "source": [
    "np.where(Z > 0, np.ceil(Z), np.floor(Z))"
   ]
  },
  {
   "cell_type": "markdown",
   "metadata": {},
   "source": [
    "#### 30. How to find common values between two arrays? (★☆☆)"
   ]
  },
  {
   "cell_type": "code",
   "execution_count": 48,
   "metadata": {
    "tags": []
   },
   "outputs": [
    {
     "name": "stdout",
     "output_type": "stream",
     "text": [
      "[[0 1 2]\n",
      " [3 4 5]\n",
      " [6 7 8]] \n",
      "\n",
      " [[ 0  2  4]\n",
      " [ 6  8 10]\n",
      " [12 14 16]]\n"
     ]
    },
    {
     "data": {
      "text/plain": [
       "array([0, 2, 4, 6, 8])"
      ]
     },
     "execution_count": 48,
     "metadata": {},
     "output_type": "execute_result"
    }
   ],
   "source": [
    "arr_1 = np.arange(9).reshape(3, 3)\n",
    "arr_2 = np.arange(0, 18, 2).reshape(3, 3)\n",
    "print(arr_1,'\\n\\n' ,arr_2)\n",
    "np.intersect1d(arr_1, arr_2)"
   ]
  },
  {
   "cell_type": "markdown",
   "metadata": {},
   "source": [
    "#### 31. How to ignore all numpy warnings (not recommended)? (★☆☆)"
   ]
  },
  {
   "cell_type": "code",
   "execution_count": 49,
   "metadata": {},
   "outputs": [],
   "source": [
    "# np.seterr(all='ignore')"
   ]
  },
  {
   "cell_type": "code",
   "execution_count": 50,
   "metadata": {},
   "outputs": [
    {
     "name": "stderr",
     "output_type": "stream",
     "text": [
      "/usr/local/anaconda3/lib/python3.7/site-packages/ipykernel_launcher.py:1: RuntimeWarning: invalid value encountered in true_divide\n",
      "  \"\"\"Entry point for launching an IPython kernel.\n"
     ]
    },
    {
     "data": {
      "text/plain": [
       "nan"
      ]
     },
     "execution_count": 50,
     "metadata": {},
     "output_type": "execute_result"
    }
   ],
   "source": [
    "np.array(0) / np.array(0)"
   ]
  },
  {
   "cell_type": "markdown",
   "metadata": {},
   "source": [
    "#### 32. Is the following expressions true? (★☆☆)\n",
    "```python\n",
    "np.sqrt(-1) == np.emath.sqrt(-1)\n",
    "```"
   ]
  },
  {
   "cell_type": "code",
   "execution_count": 51,
   "metadata": {},
   "outputs": [
    {
     "name": "stderr",
     "output_type": "stream",
     "text": [
      "/usr/local/anaconda3/lib/python3.7/site-packages/ipykernel_launcher.py:1: RuntimeWarning: invalid value encountered in sqrt\n",
      "  \"\"\"Entry point for launching an IPython kernel.\n"
     ]
    },
    {
     "data": {
      "text/plain": [
       "False"
      ]
     },
     "execution_count": 51,
     "metadata": {},
     "output_type": "execute_result"
    }
   ],
   "source": [
    "np.sqrt(-1) == np.emath.sqrt(-1)"
   ]
  },
  {
   "cell_type": "markdown",
   "metadata": {},
   "source": [
    "#### 33. How to get the dates of yesterday, today and tomorrow? (★☆☆)"
   ]
  },
  {
   "cell_type": "code",
   "execution_count": 52,
   "metadata": {},
   "outputs": [],
   "source": [
    "# np.datetime64?"
   ]
  },
  {
   "cell_type": "code",
   "execution_count": 53,
   "metadata": {},
   "outputs": [],
   "source": [
    "# np.timedelta64?"
   ]
  },
  {
   "cell_type": "markdown",
   "metadata": {},
   "source": [
    "https://numpy.org/doc/stable/reference/arrays.datetime.html"
   ]
  },
  {
   "cell_type": "code",
   "execution_count": 54,
   "metadata": {},
   "outputs": [],
   "source": [
    "# np.datetime64('now')"
   ]
  },
  {
   "cell_type": "code",
   "execution_count": 55,
   "metadata": {},
   "outputs": [
    {
     "data": {
      "text/plain": [
       "numpy.datetime64('2020-10-11')"
      ]
     },
     "execution_count": 55,
     "metadata": {},
     "output_type": "execute_result"
    }
   ],
   "source": [
    "np.datetime64('today') - np.timedelta64(1, 'D')"
   ]
  },
  {
   "cell_type": "code",
   "execution_count": 56,
   "metadata": {},
   "outputs": [
    {
     "data": {
      "text/plain": [
       "numpy.datetime64('2020-10-12')"
      ]
     },
     "execution_count": 56,
     "metadata": {},
     "output_type": "execute_result"
    }
   ],
   "source": [
    "np.datetime64('today')"
   ]
  },
  {
   "cell_type": "code",
   "execution_count": 57,
   "metadata": {},
   "outputs": [
    {
     "data": {
      "text/plain": [
       "numpy.datetime64('2020-10-13')"
      ]
     },
     "execution_count": 57,
     "metadata": {},
     "output_type": "execute_result"
    }
   ],
   "source": [
    "np.datetime64('today') + np.timedelta64(1, 'D')"
   ]
  },
  {
   "cell_type": "markdown",
   "metadata": {},
   "source": [
    "#### 34. How to get all the dates corresponding to the month of July 2016? (★★☆)"
   ]
  },
  {
   "cell_type": "code",
   "execution_count": 58,
   "metadata": {},
   "outputs": [
    {
     "data": {
      "text/plain": [
       "array(['2016-07-01', '2016-07-02', '2016-07-03', '2016-07-04',\n",
       "       '2016-07-05', '2016-07-06', '2016-07-07', '2016-07-08',\n",
       "       '2016-07-09', '2016-07-10', '2016-07-11', '2016-07-12',\n",
       "       '2016-07-13', '2016-07-14', '2016-07-15', '2016-07-16',\n",
       "       '2016-07-17', '2016-07-18', '2016-07-19', '2016-07-20',\n",
       "       '2016-07-21', '2016-07-22', '2016-07-23', '2016-07-24',\n",
       "       '2016-07-25', '2016-07-26', '2016-07-27', '2016-07-28',\n",
       "       '2016-07-29', '2016-07-30', '2016-07-31'], dtype='datetime64[D]')"
      ]
     },
     "execution_count": 58,
     "metadata": {},
     "output_type": "execute_result"
    }
   ],
   "source": [
    "np.arange('2016-07', '2016-08', dtype='datetime64[D]')"
   ]
  },
  {
   "cell_type": "markdown",
   "metadata": {},
   "source": [
    "#### 35. How to compute ((A+B)*(-A/2)) in place (without copy)? (★★☆)"
   ]
  },
  {
   "cell_type": "code",
   "execution_count": 59,
   "metadata": {},
   "outputs": [
    {
     "data": {
      "text/plain": [
       "array([ -1.,  -4.,  -9., -16.])"
      ]
     },
     "execution_count": 59,
     "metadata": {},
     "output_type": "execute_result"
    }
   ],
   "source": [
    "# np.divide?\n",
    "# This equation will only work on arrays of type float.\n",
    "A = np.array([1, 2, 3, 4], dtype='float64')\n",
    "B = np.array([1, 2, 3, 4], dtype='float64')\n",
    "\n",
    "# We can use numpy.add to add A and B. We can assign the result to B.\n",
    "np.add(A,B,out=B)\n",
    "\n",
    "# Next we can np.divide to divide A by two. We can assign the result to A.\n",
    "np.divide(A,2,out=A)\n",
    "\n",
    "# Using np.negative, we can make the result from above negative. Assign the result to A.\n",
    "np.negative(A,out=A)\n",
    "\n",
    "# Once all operations are completed inside the parentheses, we can multiply A and B.\n",
    "np.multiply(A,B,out=A)"
   ]
  },
  {
   "cell_type": "markdown",
   "metadata": {},
   "source": [
    "#### 36. Extract the integer part of a random array of positive numbers using 4 different methods (★★☆)"
   ]
  },
  {
   "cell_type": "code",
   "execution_count": 60,
   "metadata": {},
   "outputs": [],
   "source": [
    "R = np.random.uniform(0, 7, 7)"
   ]
  },
  {
   "cell_type": "code",
   "execution_count": 61,
   "metadata": {},
   "outputs": [
    {
     "data": {
      "text/plain": [
       "array([6.60530321, 6.33519921, 3.10517411, 0.68011724, 1.44748204,\n",
       "       1.90044286, 3.38953841])"
      ]
     },
     "execution_count": 61,
     "metadata": {},
     "output_type": "execute_result"
    }
   ],
   "source": [
    "R"
   ]
  },
  {
   "cell_type": "code",
   "execution_count": 62,
   "metadata": {},
   "outputs": [
    {
     "data": {
      "text/plain": [
       "array([6, 6, 3, 0, 1, 1, 3])"
      ]
     },
     "execution_count": 62,
     "metadata": {},
     "output_type": "execute_result"
    }
   ],
   "source": [
    "# Using .astype we can cast values from float->int removing the\n",
    "# decimal places.\n",
    "R.astype('int')"
   ]
  },
  {
   "cell_type": "code",
   "execution_count": 63,
   "metadata": {},
   "outputs": [
    {
     "data": {
      "text/plain": [
       "array([6., 6., 3., 0., 1., 1., 3.])"
      ]
     },
     "execution_count": 63,
     "metadata": {},
     "output_type": "execute_result"
    }
   ],
   "source": [
    "# This is cool! We can use the modulus to return the decimal values \n",
    "# From array R. We can subtract the decimal values from R.\n",
    "R - R%1"
   ]
  },
  {
   "cell_type": "code",
   "execution_count": 64,
   "metadata": {},
   "outputs": [
    {
     "data": {
      "text/plain": [
       "array([6., 6., 3., 0., 1., 1., 3.])"
      ]
     },
     "execution_count": 64,
     "metadata": {},
     "output_type": "execute_result"
    }
   ],
   "source": [
    "# Using floor division we can remove the decimal places.\n",
    "R // 1"
   ]
  },
  {
   "cell_type": "code",
   "execution_count": 65,
   "metadata": {},
   "outputs": [
    {
     "data": {
      "text/plain": [
       "array([6., 6., 3., 0., 1., 1., 3.])"
      ]
     },
     "execution_count": 65,
     "metadata": {},
     "output_type": "execute_result"
    }
   ],
   "source": [
    "# Using np.trunc we can remove decimal places.\n",
    "# np.trunc?\n",
    "np.trunc(R)"
   ]
  },
  {
   "cell_type": "markdown",
   "metadata": {},
   "source": [
    "#### 37. Create a 5x5 matrix with row values ranging from 0 to 4 (★★☆)"
   ]
  },
  {
   "cell_type": "code",
   "execution_count": 66,
   "metadata": {},
   "outputs": [
    {
     "data": {
      "text/plain": [
       "array([[0, 0, 0, 0, 0],\n",
       "       [1, 1, 1, 1, 1],\n",
       "       [2, 2, 2, 2, 2],\n",
       "       [3, 3, 3, 3, 3],\n",
       "       [4, 4, 4, 4, 4]])"
      ]
     },
     "execution_count": 66,
     "metadata": {},
     "output_type": "execute_result"
    }
   ],
   "source": [
    "np.repeat([0, 1, 2, 3, 4], 5).reshape(5, 5)"
   ]
  },
  {
   "cell_type": "markdown",
   "metadata": {},
   "source": [
    "#### 38. Consider a generator function that generates 10 integers and use it to build an array (★☆☆)"
   ]
  },
  {
   "cell_type": "code",
   "execution_count": 67,
   "metadata": {},
   "outputs": [
    {
     "name": "stdout",
     "output_type": "stream",
     "text": [
      "<class 'numpy.ndarray'>\n",
      "[ 0.  1.  2.  3.  4.  5.  6.  7.  8.  9. 10.]\n"
     ]
    }
   ],
   "source": [
    "# Used hint\n",
    "generator = range(11)\n",
    "\n",
    "# np.fromiter takes a iterator function and returns an array\n",
    "# with values of dtype float. count kwarg is set to -1\n",
    "# to return all values from the iterable.\n",
    "array = np.fromiter(generator, float, count=-1)\n",
    "print(type(array))\n",
    "print(array)"
   ]
  },
  {
   "cell_type": "markdown",
   "metadata": {},
   "source": [
    "#### 39. Create a vector of size 10 with values ranging from 0 to 1, both excluded (★★☆)"
   ]
  },
  {
   "cell_type": "code",
   "execution_count": 68,
   "metadata": {},
   "outputs": [
    {
     "data": {
      "text/plain": [
       "array([0.09090909, 0.18181818, 0.27272727, 0.36363636, 0.45454545,\n",
       "       0.54545455, 0.63636364, 0.72727273, 0.81818182, 0.90909091])"
      ]
     },
     "execution_count": 68,
     "metadata": {},
     "output_type": "execute_result"
    }
   ],
   "source": [
    "# Used hint with answer\n",
    "# np.linspace is a numpy generator that creates evenly spaced\n",
    "# Numbers over a specified interval, here 0 to 1.\n",
    "# I set kwarg endpoint=False to exclude 1 from the returned array.\n",
    "# I can use slice indexing to remove the first value, 0, from the\n",
    "# Returned array. By setting `num` positional arg. to 11 I generate\n",
    "# 11 values, 1 of which is 0. The array returned has 10 evenly spaced\n",
    "# numbers between 0 and 1 excluding both start and stop.\n",
    "\n",
    "np.linspace(0, 1, 11, endpoint=False)[1:]"
   ]
  },
  {
   "cell_type": "markdown",
   "metadata": {},
   "source": [
    "#### 40. Create a random vector of size 10 and sort it (★★☆)"
   ]
  },
  {
   "cell_type": "code",
   "execution_count": 69,
   "metadata": {},
   "outputs": [
    {
     "data": {
      "text/plain": [
       "array([-1.47297761, -0.68276472, -0.24002979, -0.10667449, -0.07052342,\n",
       "        0.22626165,  0.34325798,  1.06816039,  1.08953266,  1.15806887])"
      ]
     },
     "execution_count": 69,
     "metadata": {},
     "output_type": "execute_result"
    }
   ],
   "source": [
    "r = np.random.randn(10)\n",
    "np.sort(r)"
   ]
  },
  {
   "cell_type": "markdown",
   "metadata": {},
   "source": [
    "#### 41. How to sum a small array faster than np.sum? (★★☆)"
   ]
  },
  {
   "cell_type": "code",
   "execution_count": 70,
   "metadata": {},
   "outputs": [],
   "source": [
    "# Hint with solution used.\n",
    "# np.sum?\n",
    "# np.add.reduce?"
   ]
  },
  {
   "cell_type": "code",
   "execution_count": 71,
   "metadata": {},
   "outputs": [],
   "source": [
    "small = np.arange(1,101).reshape(10, 10)"
   ]
  },
  {
   "cell_type": "code",
   "execution_count": 72,
   "metadata": {},
   "outputs": [
    {
     "name": "stdout",
     "output_type": "stream",
     "text": [
      "CPU times: user 60 µs, sys: 1 µs, total: 61 µs\n",
      "Wall time: 64.1 µs\n"
     ]
    },
    {
     "data": {
      "text/plain": [
       "5050"
      ]
     },
     "execution_count": 72,
     "metadata": {},
     "output_type": "execute_result"
    }
   ],
   "source": [
    "%%time\n",
    "small.sum()"
   ]
  },
  {
   "cell_type": "code",
   "execution_count": 73,
   "metadata": {},
   "outputs": [
    {
     "name": "stdout",
     "output_type": "stream",
     "text": [
      "CPU times: user 37 µs, sys: 1e+03 ns, total: 38 µs\n",
      "Wall time: 40.3 µs\n"
     ]
    },
    {
     "data": {
      "text/plain": [
       "5050"
      ]
     },
     "execution_count": 73,
     "metadata": {},
     "output_type": "execute_result"
    }
   ],
   "source": [
    "%%time\n",
    "sum(small)"
   ]
  },
  {
   "cell_type": "code",
   "execution_count": 74,
   "metadata": {},
   "outputs": [
    {
     "name": "stdout",
     "output_type": "stream",
     "text": [
      "CPU times: user 23 µs, sys: 0 ns, total: 23 µs\n",
      "Wall time: 26.2 µs\n"
     ]
    },
    {
     "data": {
      "text/plain": [
       "5050"
      ]
     },
     "execution_count": 74,
     "metadata": {},
     "output_type": "execute_result"
    }
   ],
   "source": [
    "%%time\n",
    "# To get the correct sum from np.reduce.add, I need to set axis=None\n",
    "# Otherwise I get the sum across rows\n",
    "np.add.reduce(small, axis=None)"
   ]
  },
  {
   "cell_type": "code",
   "execution_count": 75,
   "metadata": {},
   "outputs": [
    {
     "data": {
      "text/plain": [
       "array([460, 470, 480, 490, 500, 510, 520, 530, 540, 550])"
      ]
     },
     "execution_count": 75,
     "metadata": {},
     "output_type": "execute_result"
    }
   ],
   "source": [
    "np.add.reduce(small)"
   ]
  },
  {
   "cell_type": "markdown",
   "metadata": {},
   "source": [
    "#### 42. Consider two random array A and B, check if they are equal (★★☆)"
   ]
  },
  {
   "cell_type": "code",
   "execution_count": 76,
   "metadata": {},
   "outputs": [],
   "source": [
    "# Hint used\n",
    "A = np.random.randn(3, 3)\n",
    "B = np.random.randn(3, 3)"
   ]
  },
  {
   "cell_type": "code",
   "execution_count": 77,
   "metadata": {},
   "outputs": [
    {
     "data": {
      "text/plain": [
       "False"
      ]
     },
     "execution_count": 77,
     "metadata": {},
     "output_type": "execute_result"
    }
   ],
   "source": [
    "# np.array_equal only returns True if both arrays have the same\n",
    "# Dimensions and elements.\n",
    "\n",
    "np.array_equal(A, B)"
   ]
  },
  {
   "cell_type": "markdown",
   "metadata": {},
   "source": [
    "#### 43. Make an array immutable (read-only) (★★☆)"
   ]
  },
  {
   "cell_type": "markdown",
   "metadata": {},
   "source": [
    "https://numpy.org/doc/stable/reference/generated/numpy.ndarray.setflags.html\n",
    "``` python\n",
    "immutable_force = np.arange(9).reshape(3, 3)\n",
    "\n",
    "immutable_force.setflags(write=False)\n",
    "immutable_force.flags.writeable = False\n",
    "immutable_force[0] = 42\n",
    "```"
   ]
  },
  {
   "cell_type": "markdown",
   "metadata": {},
   "source": [
    "#### 44. Consider a random 10x2 matrix representing cartesian coordinates, convert them to polar coordinates (★★☆)"
   ]
  },
  {
   "cell_type": "code",
   "execution_count": 78,
   "metadata": {},
   "outputs": [
    {
     "data": {
      "text/plain": [
       "array([1.00456637, 0.27343141, 1.1227888 , 0.67758501, 0.87239285,\n",
       "       0.61764958, 0.81212326, 0.68937794, 1.00194862, 1.16828917])"
      ]
     },
     "execution_count": 78,
     "metadata": {},
     "output_type": "execute_result"
    }
   ],
   "source": [
    "# https://en.wikipedia.org/wiki/Polar_coordinate_system\n",
    "# Hint and solution used.\n",
    "cartesian = np.random.random((10, 2))\n",
    "cart_x, cart_y = cartesian[:,0], cartesian[:,1]\n",
    "\n",
    "np.arctan2(cart_y, cart_x)"
   ]
  },
  {
   "cell_type": "markdown",
   "metadata": {},
   "source": [
    "#### 45. Create random vector of size 10 and replace the maximum value by 0 (★★☆)"
   ]
  },
  {
   "cell_type": "markdown",
   "metadata": {},
   "source": [
    "> Returns the indices of the maximum values along an axis.\n",
    "``` python\n",
    "np.argmax()\n",
    "```"
   ]
  },
  {
   "cell_type": "code",
   "execution_count": 79,
   "metadata": {},
   "outputs": [
    {
     "name": "stdout",
     "output_type": "stream",
     "text": [
      "0.9756712663530814\n",
      "0.8353886871465002\n"
     ]
    }
   ],
   "source": [
    "a = np.random.random(10)\n",
    "print(a.max())\n",
    "a[a.argmax()] = 0\n",
    "print(a.max())"
   ]
  },
  {
   "cell_type": "markdown",
   "metadata": {},
   "source": [
    "#### 46. Create a structured array with `x` and `y` coordinates covering the [0,1]x[0,1] area (★★☆)"
   ]
  },
  {
   "cell_type": "code",
   "execution_count": 80,
   "metadata": {},
   "outputs": [
    {
     "data": {
      "text/plain": [
       "array([[(0., 0), (0., 0), (0., 0), (0., 0), (0., 0)],\n",
       "       [(0., 0), (0., 0), (0., 0), (0., 0), (0., 0)],\n",
       "       [(0., 0), (0., 0), (0., 0), (0., 0), (0., 0)],\n",
       "       [(0., 0), (0., 0), (0., 0), (0., 0), (0., 0)],\n",
       "       [(0., 0), (0., 0), (0., 0), (0., 0), (0., 0)]],\n",
       "      dtype=[('a', '<f8'), ('b', '<i8')])"
      ]
     },
     "execution_count": 80,
     "metadata": {},
     "output_type": "execute_result"
    }
   ],
   "source": [
    "# Hint and solution used.\n",
    "# np.meshgrid?\n",
    "# https://numpy.org/doc/stable/user/basics.rec.html\n",
    "# Interesting. Constructing an array with explicit dtypes\n",
    "# causes the elements to be grouped together in tuples.\n",
    "# In each element the first position is -> float, second position is\n",
    "# int.\n",
    "np.zeros((5, 5), dtype=[('a', float),('b', int)])"
   ]
  },
  {
   "cell_type": "code",
   "execution_count": 81,
   "metadata": {},
   "outputs": [
    {
     "name": "stdout",
     "output_type": "stream",
     "text": [
      "[[(0.  , 0.  ) (0.25, 0.  ) (0.5 , 0.  ) (0.75, 0.  ) (1.  , 0.  )]\n",
      " [(0.  , 0.25) (0.25, 0.25) (0.5 , 0.25) (0.75, 0.25) (1.  , 0.25)]\n",
      " [(0.  , 0.5 ) (0.25, 0.5 ) (0.5 , 0.5 ) (0.75, 0.5 ) (1.  , 0.5 )]\n",
      " [(0.  , 0.75) (0.25, 0.75) (0.5 , 0.75) (0.75, 0.75) (1.  , 0.75)]\n",
      " [(0.  , 1.  ) (0.25, 1.  ) (0.5 , 1.  ) (0.75, 1.  ) (1.  , 1.  )]]\n"
     ]
    }
   ],
   "source": [
    "coordinates = np.zeros((5,5), dtype=[('x',float),('y',float)])\n",
    "\n",
    "# np.meshgrid only accepts 1-D arrays! as arguments\n",
    "# I have to assign the values from meshgrid separately. \n",
    "coordinates['x'], coordinates['y'] = np.meshgrid(\n",
    "    np.linspace(0,1,5),\n",
    "    np.linspace(0,1,5))\n",
    "\n",
    "print(coordinates)"
   ]
  },
  {
   "cell_type": "markdown",
   "metadata": {},
   "source": [
    "#### 47. Given two arrays, X and Y, construct the Cauchy matrix C (Cij =1/(xi - yj))"
   ]
  },
  {
   "cell_type": "code",
   "execution_count": 82,
   "metadata": {},
   "outputs": [
    {
     "data": {
      "text/plain": [
       "array([[-0.03333333, -0.02      , -0.05      , -0.01111111],\n",
       "       [-0.05      , -0.025     , -0.1       , -0.0125    ],\n",
       "       [ 0.03333333,  0.1       ,  0.025     , -0.03333333]])"
      ]
     },
     "execution_count": 82,
     "metadata": {},
     "output_type": "execute_result"
    }
   ],
   "source": [
    "# https://en.wikipedia.org/wiki/Cauchy_matrix\n",
    "# http://math.sjtu.edu.cn/Conference/SCAC/slide/AlisonGordon.pdf\n",
    "# Change the shape of X or Y allows me to perform the Cauchy Martix\n",
    "# Calculation.\n",
    "X = np.array([10, 20, 70]).reshape(-1, 1)\n",
    "Y = np.array([40, 60, 30, 100]) #.reshape(-1, 1)\n",
    "\n",
    "1/(X-Y)"
   ]
  },
  {
   "cell_type": "markdown",
   "metadata": {},
   "source": [
    "#### 48. Print the minimum and maximum representable value for each numpy scalar type (★★☆)"
   ]
  },
  {
   "cell_type": "code",
   "execution_count": 83,
   "metadata": {},
   "outputs": [
    {
     "name": "stdout",
     "output_type": "stream",
     "text": [
      "Machine parameters for int32\n",
      "---------------------------------------------------------------\n",
      "min = -2147483648\n",
      "max = 2147483647\n",
      "---------------------------------------------------------------\n",
      "\n",
      "Machine parameters for int64\n",
      "---------------------------------------------------------------\n",
      "min = -9223372036854775808\n",
      "max = 9223372036854775807\n",
      "---------------------------------------------------------------\n",
      "\n"
     ]
    }
   ],
   "source": [
    "# print(np.iinfo('int'))\n",
    "print(np.iinfo('int32'))\n",
    "# NINE QUINTERINTINOTILLION!!!!!!\n",
    "print(np.iinfo('int64'))"
   ]
  },
  {
   "cell_type": "markdown",
   "metadata": {},
   "source": [
    "#### 49. How to print all the values of an array? (★★☆)"
   ]
  },
  {
   "cell_type": "markdown",
   "metadata": {},
   "source": [
    "``` python\n",
    "np.set_printoptions?\n",
    "```\n",
    "Reading the docs, I can pass sys.maxsize to print all elements of\n",
    "An array rather than the summarized repr.\n",
    "``` python\n",
    "printable = np.arange(1, 100)\n",
    "np.set_printoptions('sys.maxsize')\n",
    "printable\n",
    "```"
   ]
  },
  {
   "cell_type": "markdown",
   "metadata": {},
   "source": [
    "#### 50. How to find the closest value (to a given scalar) in a vector? (★★☆)"
   ]
  },
  {
   "cell_type": "code",
   "execution_count": 84,
   "metadata": {},
   "outputs": [
    {
     "name": "stdout",
     "output_type": "stream",
     "text": [
      "75547439.141811\n",
      "75547439\n",
      "54481324.940761656\n",
      "54481325\n",
      "17403209.053872038\n",
      "17403209\n",
      "90411421.68501332\n",
      "90411422\n",
      "20583778.26833102\n",
      "20583778\n",
      "65004325.67901567\n",
      "65004326\n",
      "93647185.29746944\n",
      "93647185\n",
      "22357963.02116915\n",
      "22357963\n",
      "1.25 s ± 9.97 ms per loop (mean ± std. dev. of 7 runs, 1 loop each)\n"
     ]
    }
   ],
   "source": [
    "%%timeit # (: \n",
    "# Used hint and solution\n",
    "# Creating a vector using the range function.\n",
    "vector = np.arange(100_000_000)\n",
    "\n",
    "# Selecting a scalar from the random uniform distribution of 100,000,000\n",
    "scalar = np.random.uniform(0,100_000_000)\n",
    "\n",
    "# I can perform vectorization to subtract the scalar from every\n",
    "# Value in vector. I take the absolute value of the operation\n",
    "# To find the closet value to a scalar irregardless of positive/negative\n",
    "# I can use argmin() to return the index that holds the closest value\n",
    "# To the given scalar\n",
    "index = (np.abs(vector-scalar)).argmin()\n",
    "\n",
    "# Return the number\n",
    "print(scalar)\n",
    "print(vector[index])"
   ]
  },
  {
   "cell_type": "markdown",
   "metadata": {},
   "source": [
    "#### 51. Create a structured array representing a position (x,y) and a color (r,g,b) (★★☆)"
   ]
  },
  {
   "cell_type": "code",
   "execution_count": 85,
   "metadata": {},
   "outputs": [
    {
     "data": {
      "text/plain": [
       "dtype([('position', [('x', '<f8'), ('y', '<f8')]), ('color', [('r', '<i8'), ('g', '<i8'), ('b', '<f8')])])"
      ]
     },
     "execution_count": 85,
     "metadata": {},
     "output_type": "execute_result"
    }
   ],
   "source": [
    "array = np.array([1, 2, 3], dtype=[(\n",
    "    'position',\n",
    "    [('x', float), ('y', float)]),\n",
    "    ('color',\n",
    "    [('r', int),('g', int),('b', float)])\n",
    "])\n",
    "\n",
    "array.dtype"
   ]
  },
  {
   "cell_type": "markdown",
   "metadata": {},
   "source": [
    "#### 52. Consider a random vector with shape (100,2) representing coordinates, find point by point distances (★★☆)\n",
    "```python\n",
    "np.atleast_2d\n",
    "```\n",
    "> Returns two vectors from a 2d array: Column 1 is X, Column 2 is Y"
   ]
  },
  {
   "cell_type": "code",
   "execution_count": 86,
   "metadata": {},
   "outputs": [],
   "source": [
    "V = np.random.random((100,2))"
   ]
  },
  {
   "cell_type": "code",
   "execution_count": 87,
   "metadata": {},
   "outputs": [
    {
     "data": {
      "text/plain": [
       "array([[0.22592354, 0.85181891],\n",
       "       [0.82765503, 0.35170335],\n",
       "       [0.26509629, 0.12738847],\n",
       "       [0.9879361 , 0.8353431 ],\n",
       "       [0.8993916 , 0.51367933],\n",
       "       [0.11438483, 0.05258034],\n",
       "       [0.3305821 , 0.92033043],\n",
       "       [0.94758184, 0.84116387],\n",
       "       [0.15867914, 0.41992317],\n",
       "       [0.24624292, 0.20534977],\n",
       "       [0.68482585, 0.48611167],\n",
       "       [0.32490964, 0.10021446],\n",
       "       [0.54476337, 0.34702515],\n",
       "       [0.39109581, 0.31050874],\n",
       "       [0.3871952 , 0.55585958],\n",
       "       [0.01414381, 0.847647  ],\n",
       "       [0.92191986, 0.55052969],\n",
       "       [0.26802112, 0.990239  ],\n",
       "       [0.38319403, 0.69365539],\n",
       "       [0.68995255, 0.43430906],\n",
       "       [0.19915816, 0.96657938],\n",
       "       [0.06369086, 0.48514939],\n",
       "       [0.22073071, 0.29397413],\n",
       "       [0.82852732, 0.36726556],\n",
       "       [0.08334827, 0.19630901],\n",
       "       [0.86037341, 0.97702885],\n",
       "       [0.26798216, 0.67540899],\n",
       "       [0.081199  , 0.72346559],\n",
       "       [0.41643661, 0.91815992],\n",
       "       [0.31153617, 0.941467  ],\n",
       "       [0.50324743, 0.34889292],\n",
       "       [0.6470196 , 0.2497462 ],\n",
       "       [0.2297636 , 0.19634644],\n",
       "       [0.95989956, 0.49291373],\n",
       "       [0.75161496, 0.47399188],\n",
       "       [0.58754016, 0.58413898],\n",
       "       [0.97988631, 0.66843312],\n",
       "       [0.23976947, 0.01519766],\n",
       "       [0.21868214, 0.45551964],\n",
       "       [0.39342034, 0.81232624],\n",
       "       [0.78555676, 0.08909597],\n",
       "       [0.95201072, 0.52745668],\n",
       "       [0.59640396, 0.40505677],\n",
       "       [0.64950096, 0.8713263 ],\n",
       "       [0.67393597, 0.97009854],\n",
       "       [0.70112225, 0.82172074],\n",
       "       [0.04503958, 0.67269851],\n",
       "       [0.65475264, 0.10174605],\n",
       "       [0.8423875 , 0.6141724 ],\n",
       "       [0.09832809, 0.59446712],\n",
       "       [0.47841585, 0.23329357],\n",
       "       [0.01975609, 0.36556728],\n",
       "       [0.61985108, 0.32927913],\n",
       "       [0.30725465, 0.75112124],\n",
       "       [0.75862465, 0.71876584],\n",
       "       [0.10118195, 0.51616596],\n",
       "       [0.55779866, 0.74480453],\n",
       "       [0.90317772, 0.36903887],\n",
       "       [0.42866347, 0.73276749],\n",
       "       [0.66263642, 0.5578699 ],\n",
       "       [0.35013963, 0.19535235],\n",
       "       [0.18380737, 0.08158329],\n",
       "       [0.08120085, 0.84579822],\n",
       "       [0.38367275, 0.06073962],\n",
       "       [0.89642567, 0.22327047],\n",
       "       [0.26812443, 0.19449784],\n",
       "       [0.96750106, 0.11254009],\n",
       "       [0.72216324, 0.93208874],\n",
       "       [0.6680013 , 0.85872661],\n",
       "       [0.2424471 , 0.67392798],\n",
       "       [0.70087134, 0.45833251],\n",
       "       [0.87054562, 0.6943861 ],\n",
       "       [0.89487779, 0.75320435],\n",
       "       [0.52029042, 0.49868822],\n",
       "       [0.45372763, 0.02164686],\n",
       "       [0.5351414 , 0.42297323],\n",
       "       [0.1575336 , 0.1190697 ],\n",
       "       [0.44935188, 0.03991305],\n",
       "       [0.98657989, 0.37812093],\n",
       "       [0.38210919, 0.0511263 ],\n",
       "       [0.42667233, 0.01574544],\n",
       "       [0.03009363, 0.33909923],\n",
       "       [0.82096895, 0.45882108],\n",
       "       [0.01484058, 0.16322003],\n",
       "       [0.73992272, 0.73829374],\n",
       "       [0.75452291, 0.35166938],\n",
       "       [0.35227695, 0.80207567],\n",
       "       [0.39813789, 0.72719101],\n",
       "       [0.58112301, 0.36434168],\n",
       "       [0.08000652, 0.11612538],\n",
       "       [0.88955872, 0.45234051],\n",
       "       [0.99400454, 0.36389695],\n",
       "       [0.2499543 , 0.35053932],\n",
       "       [0.3430861 , 0.63735673],\n",
       "       [0.01273756, 0.76326864],\n",
       "       [0.41641463, 0.43223919],\n",
       "       [0.48111502, 0.44921245],\n",
       "       [0.4974709 , 0.34590431],\n",
       "       [0.45334614, 0.40465134],\n",
       "       [0.51824272, 0.62326908]])"
      ]
     },
     "execution_count": 87,
     "metadata": {},
     "output_type": "execute_result"
    }
   ],
   "source": [
    "V"
   ]
  },
  {
   "cell_type": "code",
   "execution_count": 88,
   "metadata": {},
   "outputs": [],
   "source": [
    "X, Y = np.atleast_2d(V[:,0],V[:,1])"
   ]
  },
  {
   "cell_type": "code",
   "execution_count": 89,
   "metadata": {},
   "outputs": [
    {
     "name": "stdout",
     "output_type": "stream",
     "text": [
      "(100,)\n",
      "(100,)\n",
      "(1, 100)\n",
      "(1, 100)\n"
     ]
    }
   ],
   "source": [
    "print(V[:,0].shape)  # V[:,0] and V[:,1] without np.atleast_2d only rows, no columns. (100,)\n",
    "print(V[:,1].shape)\n",
    "print(X.shape)  # Interesting. np.atleast_2d explicitly gives each series a shape of 1, 100\n",
    "print(Y.shape)"
   ]
  },
  {
   "cell_type": "code",
   "execution_count": 90,
   "metadata": {},
   "outputs": [
    {
     "name": "stdout",
     "output_type": "stream",
     "text": [
      "X - X.T yields a point matrix of shape (100, 100)\n",
      "Y - Y.T yields a point matrix of shape (100, 100)\n"
     ]
    }
   ],
   "source": [
    "# This calculates the point distance for every X point.\n",
    "print('X - X.T yields a point matrix of shape',(X - X.T).shape)\n",
    "print('Y - Y.T yields a point matrix of shape',(Y - Y.T).shape)"
   ]
  },
  {
   "cell_type": "code",
   "execution_count": 91,
   "metadata": {},
   "outputs": [
    {
     "data": {
      "text/plain": [
       "(100, 100)"
      ]
     },
     "execution_count": 91,
     "metadata": {},
     "output_type": "execute_result"
    }
   ],
   "source": [
    "D = np.sqrt((X-X.T)**2 + (Y-Y.T)**2) # distance formula\n",
    "D.shape"
   ]
  },
  {
   "cell_type": "code",
   "execution_count": 92,
   "metadata": {},
   "outputs": [],
   "source": [
    "A = V[:,0]\n",
    "B = V[:,1]"
   ]
  },
  {
   "cell_type": "code",
   "execution_count": 93,
   "metadata": {},
   "outputs": [],
   "source": [
    "E = np.sqrt((A-A.T)**2 + (B-B.T)**2)"
   ]
  },
  {
   "cell_type": "code",
   "execution_count": 94,
   "metadata": {},
   "outputs": [
    {
     "data": {
      "text/plain": [
       "False"
      ]
     },
     "execution_count": 94,
     "metadata": {},
     "output_type": "execute_result"
    }
   ],
   "source": [
    "np.all(D == E)  # nope. False because the shape of these two groups of series are different."
   ]
  },
  {
   "cell_type": "markdown",
   "metadata": {},
   "source": [
    "#### 53. How to convert a float (32 bits) array into an integer (32 bits) in place?"
   ]
  },
  {
   "cell_type": "code",
   "execution_count": 95,
   "metadata": {},
   "outputs": [
    {
     "name": "stdout",
     "output_type": "stream",
     "text": [
      "float32\n",
      "int32\n"
     ]
    }
   ],
   "source": [
    "Z = (np.random.randn(10)).astype(np.float32)\n",
    "Y = Z.view(np.int32)\n",
    "Y[:] = Z\n",
    "print(Z.dtype)\n",
    "print(Y.dtype)"
   ]
  },
  {
   "cell_type": "markdown",
   "metadata": {},
   "source": [
    "#### 54. How to read the following file? (★★☆)\n",
    "```\n",
    "1, 2, 3, 4, 5\n",
    "6,  ,  , 7, 8\n",
    " ,  , 9,10,11\n",
    "\n",
    "np.genfromtxt?\n",
    "[1] NumPy User Guide, section `I/O with NumPy\n",
    "    <https://docs.scipy.org/doc/numpy/user/basics.io.genfromtxt.html>`\n",
    "```"
   ]
  },
  {
   "cell_type": "code",
   "execution_count": 96,
   "metadata": {},
   "outputs": [
    {
     "name": "stdout",
     "output_type": "stream",
     "text": [
      "[[ 1  2  3  4  5]\n",
      " [ 6  0  0  7  8]\n",
      " [ 0  0  9 10 11]]\n"
     ]
    }
   ],
   "source": [
    "from io import StringIO\n",
    "\n",
    "data = StringIO('''1, 2, 3, 4, 5\n",
    "                   6,  ,  , 7, 8\n",
    "                   ,  , 9,10,11\n",
    "                ''')\n",
    "\n",
    "Z = np.genfromtxt(data, delimiter=\",\", dtype=np.int32, filling_values=0)\n",
    "print(Z)"
   ]
  },
  {
   "cell_type": "markdown",
   "metadata": {},
   "source": [
    "#### 55. What is the equivalent of enumerate for numpy arrays? (★★☆)"
   ]
  },
  {
   "cell_type": "code",
   "execution_count": 97,
   "metadata": {},
   "outputs": [],
   "source": [
    "a = np.arange(27).reshape(3, 3, 3)"
   ]
  },
  {
   "cell_type": "code",
   "execution_count": 98,
   "metadata": {},
   "outputs": [
    {
     "name": "stdout",
     "output_type": "stream",
     "text": [
      "Index (0, 0, 0), Value 0\n",
      "Index (0, 0, 1), Value 1\n",
      "Index (0, 0, 2), Value 2\n",
      "Index (0, 1, 0), Value 3\n",
      "Index (0, 1, 1), Value 4\n",
      "Index (0, 1, 2), Value 5\n",
      "Index (0, 2, 0), Value 6\n",
      "Index (0, 2, 1), Value 7\n",
      "Index (0, 2, 2), Value 8\n",
      "Index (1, 0, 0), Value 9\n",
      "Index (1, 0, 1), Value 10\n",
      "Index (1, 0, 2), Value 11\n",
      "Index (1, 1, 0), Value 12\n",
      "Index (1, 1, 1), Value 13\n",
      "Index (1, 1, 2), Value 14\n",
      "Index (1, 2, 0), Value 15\n",
      "Index (1, 2, 1), Value 16\n",
      "Index (1, 2, 2), Value 17\n",
      "Index (2, 0, 0), Value 18\n",
      "Index (2, 0, 1), Value 19\n",
      "Index (2, 0, 2), Value 20\n",
      "Index (2, 1, 0), Value 21\n",
      "Index (2, 1, 1), Value 22\n",
      "Index (2, 1, 2), Value 23\n",
      "Index (2, 2, 0), Value 24\n",
      "Index (2, 2, 1), Value 25\n",
      "Index (2, 2, 2), Value 26\n"
     ]
    }
   ],
   "source": [
    "# `np.ndenumerate` returns the index AND the value at a given index\n",
    "# As a reminder, Python starts at 0 because computer.\n",
    "for index, value in np.ndenumerate(a):\n",
    "    print(f\"Index {index}, Value {value}\")"
   ]
  },
  {
   "cell_type": "code",
   "execution_count": 99,
   "metadata": {},
   "outputs": [
    {
     "name": "stdout",
     "output_type": "stream",
     "text": [
      "Index (0, 0, 0)\n",
      "Index (0, 0, 1)\n",
      "Index (0, 0, 2)\n",
      "Index (0, 1, 0)\n",
      "Index (0, 1, 1)\n",
      "Index (0, 1, 2)\n",
      "Index (0, 2, 0)\n",
      "Index (0, 2, 1)\n",
      "Index (0, 2, 2)\n",
      "Index (1, 0, 0)\n",
      "Index (1, 0, 1)\n",
      "Index (1, 0, 2)\n",
      "Index (1, 1, 0)\n",
      "Index (1, 1, 1)\n",
      "Index (1, 1, 2)\n",
      "Index (1, 2, 0)\n",
      "Index (1, 2, 1)\n",
      "Index (1, 2, 2)\n",
      "Index (2, 0, 0)\n",
      "Index (2, 0, 1)\n",
      "Index (2, 0, 2)\n",
      "Index (2, 1, 0)\n",
      "Index (2, 1, 1)\n",
      "Index (2, 1, 2)\n",
      "Index (2, 2, 0)\n",
      "Index (2, 2, 1)\n",
      "Index (2, 2, 2)\n"
     ]
    }
   ],
   "source": [
    "# Iterates every index position of all values in matrix `a`.\n",
    "for index in np.ndindex(a.shape):\n",
    "    print(f\"Index {index}\")"
   ]
  },
  {
   "cell_type": "markdown",
   "metadata": {},
   "source": [
    "#### 56. Generate a generic 2D Gaussian-like array (★★☆)"
   ]
  },
  {
   "cell_type": "markdown",
   "metadata": {},
   "source": [
    "```python\n",
    "np.exp?\n",
    "```"
   ]
  },
  {
   "cell_type": "code",
   "execution_count": 128,
   "metadata": {},
   "outputs": [],
   "source": [
    "# 100 points between -1 and 1\n",
    "nx, ny = (5, 5)\n",
    "# create x and y with 100 evenly spaced points\n",
    "x = np.linspace(-1, 1, nx)\n",
    "y = np.linspace(-1, 1, ny)\n",
    "\n",
    "# \n",
    "xv, yv = np.meshgrid(x, y)"
   ]
  },
  {
   "cell_type": "code",
   "execution_count": 129,
   "metadata": {},
   "outputs": [
    {
     "data": {
      "image/png": "[encoded data removed]",
      "text/plain": [
       "<Figure size 432x288 with 1 Axes>"
      ]
     },
     "metadata": {
      "needs_background": "light"
     },
     "output_type": "display_data"
    }
   ],
   "source": [
    "# Calculates coordindates of (nx, ny)\n",
    "# X and Y have shapes of 10 x 10.\n",
    "\n",
    "# Combines XX YY into a single matrix of\n",
    "D = np.sqrt(xv*xv+yv*yv)\n",
    "\n",
    "# This is a standard normal distribution: standard deviation of 1, mean of 0.\n",
    "sigma, mu = 1.0, 0.0\n",
    "\n",
    "G = np.exp(-((D-mu)**2 / (2.0 * sigma**2)))\n",
    "plt.plot(G);"
   ]
  },
  {
   "cell_type": "markdown",
   "metadata": {},
   "source": [
    "The negative sign in `np.exp(-(...))` flips the distribution upsidedown\n",
    "\n",
    "> Formula for gamma Γ: `Γ = -(2.0 * sigma**2)`\n",
    ">\n",
    "> or, the inverse sign of: 2 times the variance.\n",
    ">\n",
    "> This formula is also known as the __Gaussian Kernel__.\n",
    "\n",
    "> Formula for __Radial Basis Function__, aka __Gaussian Kernel__:\n",
    ">\n",
    "> $e$^$(-\\gamma ||(x_1 - x_2)||^2)$\n",
    "\n",
    "> In Python:\n",
    "```python\n",
    "np.exp(-((D-mu)**2 / (2.0 * sigma**2)))\n",
    "```\n",
    ">\n",
    "> 1. (D-$\\mu$) calculates the Euclidian distance between the two points.\n",
    ">\n",
    "> 2. The Euclidian distance is then squared.\n",
    ">\n",
    "> 3. Afterward, the Euclidian distance squared is divided by gamma, $\\gamma$ == 2$\\sigma^2$.\n",
    ">\n",
    "> 4. Lastly, the resulting number is used as the exponent of $e$\n",
    ">\n",
    "> __[From the docs](https://numpy.org/doc/stable/reference/generated/numpy.exp.html)__:\n",
    "The irrational number $e$ is also known as Euler’s number. It is approximately 2.718281, and is the base of the natural logarithm, $ln$ (this means that, if $x = \\ln$, $y = \\log_ey$, then $e^x = y$. For real input, `exp(x)` is __always positive__.\n",
    " \n",
    "In SVM algorithms, $\\gamma$ is a hyperparameter that controls the __width__ of the Gaussian kernel.\n",
    "The width means the extend to which a single observation influences the others.\n",
    "> High gamma: Limits the influence a single observation has on a decision boundary, like in classification. This decision boundary restricts the decision boundary to observations that are similar to it. It __encapsulates__ these observations together in their own cool kids club aka Gaussian cloud.\n",
    "> Low gamma: The influence of a single observation is broad or less restrictive. The decision boundary of a SVM with low gamma is smooth.\n",
    ">\n",
    "When adjusting hyperparameters in a SVM model, it is a best practice to __tune both gamma and C__. As a reminder, C is a regularization parameter that penalizes values that are very large. These hyperparameters are very sensitive to changes."
   ]
  },
  {
   "cell_type": "code",
   "execution_count": 135,
   "metadata": {},
   "outputs": [
    {
     "data": {
      "text/plain": [
       "2.718281828459045"
      ]
     },
     "execution_count": 135,
     "metadata": {},
     "output_type": "execute_result"
    }
   ],
   "source": [
    "np.exp(1)"
   ]
  },
  {
   "cell_type": "code",
   "execution_count": 102,
   "metadata": {},
   "outputs": [
    {
     "name": "stdout",
     "output_type": "stream",
     "text": [
      "(1000, 1000)\n",
      "(1000, 1000)\n",
      "(1000, 1000)\n",
      "(1000, 1000)\n"
     ]
    }
   ],
   "source": [
    "print(xv.shape)\n",
    "print(yv.shape)\n",
    "print(D.shape)\n",
    "print(G.shape)"
   ]
  },
  {
   "cell_type": "markdown",
   "metadata": {},
   "source": [
    "#### 57. How to randomly place p elements in a 2D array? (★★☆)"
   ]
  },
  {
   "cell_type": "code",
   "execution_count": 103,
   "metadata": {},
   "outputs": [
    {
     "name": "stdout",
     "output_type": "stream",
     "text": [
      "The number of randomly placed 1's in array Z: 10\n",
      "[[0. 0. 0. 0. 0. 0. 0. 0. 1. 0.]\n",
      " [0. 0. 0. 0. 0. 0. 0. 0. 1. 0.]\n",
      " [0. 0. 0. 0. 1. 0. 0. 0. 1. 0.]\n",
      " [1. 0. 0. 0. 0. 0. 1. 0. 0. 0.]\n",
      " [0. 0. 0. 0. 0. 0. 0. 0. 0. 0.]\n",
      " [0. 0. 0. 0. 0. 0. 0. 0. 0. 0.]\n",
      " [0. 0. 0. 0. 1. 0. 0. 0. 0. 0.]\n",
      " [0. 0. 0. 0. 0. 0. 0. 0. 0. 0.]\n",
      " [0. 1. 0. 0. 0. 0. 1. 0. 0. 0.]\n",
      " [0. 0. 0. 0. 0. 1. 0. 0. 0. 0.]]\n",
      "\n",
      "The number of randomly placed 1's in array Z: 17\n",
      "[[0. 0. 0. 0. 0. 0. 0. 0. 1. 0.]\n",
      " [0. 1. 0. 0. 0. 0. 0. 0. 1. 0.]\n",
      " [0. 1. 0. 0. 1. 0. 0. 0. 1. 0.]\n",
      " [1. 0. 0. 0. 0. 0. 1. 0. 0. 0.]\n",
      " [0. 0. 0. 0. 0. 0. 0. 0. 0. 0.]\n",
      " [0. 0. 0. 0. 0. 0. 0. 0. 0. 0.]\n",
      " [1. 0. 0. 0. 1. 0. 0. 0. 0. 0.]\n",
      " [0. 0. 0. 0. 0. 0. 0. 0. 0. 1.]\n",
      " [0. 1. 0. 0. 1. 0. 1. 0. 1. 0.]\n",
      " [0. 1. 0. 0. 0. 1. 0. 0. 0. 0.]]\n",
      "\n"
     ]
    }
   ],
   "source": [
    "# variable to hold the dimension of array\n",
    "n = 10\n",
    "# The number of elements to replace in the array\n",
    "p = 10\n",
    "# create an array of zeros to clearly see which values are replaced by random choice\n",
    "Z = np.zeros((n,n))\n",
    "\n",
    "# np.put to randomly place ten 1's selected from range(n, n) the number of elements in array Z.\n",
    "np.put(Z, np.random.choice(range(n*n), p, replace=False), 1)\n",
    "print(f\"The number of randomly placed 1's in array Z: {Z.sum().astype(np.int32)}\")\n",
    "print(Z, end='\\n\\n')\n",
    "\n",
    "# np.put randomly places 1's. With replace=True, the number of randomly chosen zeros to replace exceeds p.\n",
    "np.put(Z, np.random.choice(range(n*n), p, replace=True), 1)\n",
    "print(f\"The number of randomly placed 1's in array Z: {Z.sum().astype(np.int32)}\")\n",
    "print(Z, end='\\n\\n')"
   ]
  },
  {
   "cell_type": "markdown",
   "metadata": {},
   "source": [
    "#### 58. Subtract the mean of each row of a matrix (★★☆)"
   ]
  },
  {
   "cell_type": "code",
   "execution_count": 104,
   "metadata": {},
   "outputs": [
    {
     "name": "stdout",
     "output_type": "stream",
     "text": [
      "Row Index 0, Mean 2.0\n",
      "Row Index 1, Mean 5.0\n",
      "Row Index 2, Mean 8.0\n"
     ]
    },
    {
     "data": {
      "text/plain": [
       "array([[-1., -3., -5.],\n",
       "       [ 2.,  0., -2.],\n",
       "       [ 5.,  3.,  1.]])"
      ]
     },
     "execution_count": 104,
     "metadata": {},
     "output_type": "execute_result"
    }
   ],
   "source": [
    "A = np.arange(1, 10).reshape(3, 3)\n",
    "means = A.mean(axis=1).reshape(-1, 1)\n",
    "for index, value in np.ndenumerate(means):\n",
    "    print(f\"Row Index {index[0]}, Mean {value}\")\n",
    "\n",
    "print\n",
    "A - A.mean(axis=1)"
   ]
  },
  {
   "cell_type": "markdown",
   "metadata": {},
   "source": [
    "#### 59. How to sort an array by the nth column? (★★☆)"
   ]
  },
  {
   "cell_type": "code",
   "execution_count": 105,
   "metadata": {},
   "outputs": [],
   "source": [
    "B = np.random.randint(1, 100, size=(3, 3))"
   ]
  },
  {
   "cell_type": "code",
   "execution_count": 106,
   "metadata": {},
   "outputs": [
    {
     "data": {
      "text/plain": [
       "array([[85, 17,  2],\n",
       "       [23, 99,  9],\n",
       "       [12, 76, 50]])"
      ]
     },
     "execution_count": 106,
     "metadata": {},
     "output_type": "execute_result"
    }
   ],
   "source": [
    "B[B[:,2].argsort()]"
   ]
  },
  {
   "cell_type": "code",
   "execution_count": 107,
   "metadata": {},
   "outputs": [
    {
     "data": {
      "text/plain": [
       "array([[85, 17,  2],\n",
       "       [23, 99,  9],\n",
       "       [12, 76, 50]])"
      ]
     },
     "execution_count": 107,
     "metadata": {},
     "output_type": "execute_result"
    }
   ],
   "source": [
    "B[B[:,-1].argsort()]"
   ]
  },
  {
   "cell_type": "code",
   "execution_count": 108,
   "metadata": {},
   "outputs": [
    {
     "name": "stdout",
     "output_type": "stream",
     "text": [
      "3\n"
     ]
    }
   ],
   "source": [
    "print(len(B))"
   ]
  },
  {
   "cell_type": "code",
   "execution_count": 109,
   "metadata": {},
   "outputs": [
    {
     "name": "stdout",
     "output_type": "stream",
     "text": [
      "Original Array\n",
      "[[12 76 50]\n",
      " [23 99  9]\n",
      " [85 17  2]]\n",
      "\n",
      "Sort by column index 0\n",
      "[[12 76 50]\n",
      " [23 99  9]\n",
      " [85 17  2]]\n",
      "\n",
      "Sort by column index 1\n",
      "[[85 17  2]\n",
      " [12 76 50]\n",
      " [23 99  9]]\n",
      "\n",
      "Sort by column index 2\n",
      "[[85 17  2]\n",
      " [23 99  9]\n",
      " [12 76 50]]\n",
      "\n"
     ]
    }
   ],
   "source": [
    "print(\"Original Array\")\n",
    "print(B, end='\\n\\n')\n",
    "\n",
    "for i in range(len(B)):\n",
    "    print(f\"Sort by column index {i}\")\n",
    "    print(B[B[:,i].argsort()], end='\\n\\n')"
   ]
  },
  {
   "cell_type": "code",
   "execution_count": 110,
   "metadata": {},
   "outputs": [
    {
     "name": "stdout",
     "output_type": "stream",
     "text": [
      "Original Array\n",
      "[[12 76 50]\n",
      " [23 99  9]\n",
      " [85 17  2]]\n",
      "\n",
      "Sort by row index 0\n",
      "[[12 76 50]\n",
      " [85 17  2]\n",
      " [23 99  9]]\n",
      "\n",
      "Sort by row index 1\n",
      "[[85 17  2]\n",
      " [12 76 50]\n",
      " [23 99  9]]\n",
      "\n",
      "Sort by row index 2\n",
      "[[85 17  2]\n",
      " [23 99  9]\n",
      " [12 76 50]]\n",
      "\n"
     ]
    }
   ],
   "source": [
    "print(\"Original Array\")\n",
    "print(B, end='\\n\\n')\n",
    "\n",
    "for i in range(len(B)):\n",
    "    print(f\"Sort by row index {i}\")\n",
    "    print(B[B[i,:].argsort()], end='\\n\\n')"
   ]
  },
  {
   "cell_type": "markdown",
   "metadata": {},
   "source": [
    "#### 60. How to tell if a given 2D array has null columns? (★★☆)"
   ]
  },
  {
   "cell_type": "code",
   "execution_count": 111,
   "metadata": {},
   "outputs": [],
   "source": [
    "np.any?"
   ]
  },
  {
   "cell_type": "code",
   "execution_count": 112,
   "metadata": {},
   "outputs": [
    {
     "name": "stdout",
     "output_type": "stream",
     "text": [
      "Randomly generated array\n",
      "[[0 0 0 0]\n",
      " [0 1 1 1]\n",
      " [0 0 1 1]\n",
      " [0 0 1 0]]\n",
      "\n",
      "Are there any columns that contain only 0's? True\n"
     ]
    }
   ],
   "source": [
    "Z = np.random.randint(0, 2,(4, 4))\n",
    "print(\"Randomly generated array\")\n",
    "print(Z, end='\\n\\n')\n",
    "print(f\"Are there any columns that contain only 0's? {(Z.any(axis=0)==0).any()}\")"
   ]
  },
  {
   "cell_type": "markdown",
   "metadata": {},
   "source": [
    "#### 61. Find the nearest value from a given value in an array (★★☆)"
   ]
  },
  {
   "cell_type": "code",
   "execution_count": 113,
   "metadata": {},
   "outputs": [
    {
     "name": "stdout",
     "output_type": "stream",
     "text": [
      "Original Array: Z\n",
      "[[999 130 852 201]\n",
      " [130  78  62 841]\n",
      " [814 456 436  15]\n",
      " [471 211 157 268]]\n",
      "\n",
      "Median of array: 239.50\n",
      "Nearest value to the median: 211\n",
      "Mean of array: 382.56\n",
      "Nearest value to the mean: 436\n"
     ]
    }
   ],
   "source": [
    "# Create a random array of shape 4, 4\n",
    "Z = np.random.randint(0,1_000,16).reshape(4, 4)\n",
    "\n",
    "# Create variables to store the median and mean of array Z\n",
    "y = np.median(Z)\n",
    "z = np.mean(Z)\n",
    "\n",
    "# Create variables to store the values that are the closest to the median and mean.\n",
    "median = Z.flat[np.abs(Z - y).argmin()]\n",
    "mean = Z.flat[np.abs(Z - z).argmin()]\n",
    "\n",
    "# Display information to the user\n",
    "print(\"Original Array: Z\")\n",
    "print(Z, end='\\n\\n')\n",
    "print(f\"Median of array: {y:.2f}\")\n",
    "print(f\"Nearest value to the median: {median:.0f}\")\n",
    "print(f\"Mean of array: {z:.2f}\")\n",
    "print(f\"Nearest value to the mean: {mean:.0f}\")"
   ]
  },
  {
   "cell_type": "markdown",
   "metadata": {},
   "source": [
    "#### 62. Considering two arrays with shape (1,3) and (3,1), how to compute their sum using an iterator? (★★☆)"
   ]
  },
  {
   "cell_type": "code",
   "execution_count": 114,
   "metadata": {},
   "outputs": [
    {
     "name": "stdout",
     "output_type": "stream",
     "text": [
      "[[1 4 7]]\n",
      "\n",
      "[[8]\n",
      " [2]\n",
      " [4]]\n",
      "\n",
      "[[ 9 12 15]\n",
      " [ 3  6  9]\n",
      " [ 5  8 11]]\n"
     ]
    }
   ],
   "source": [
    "v1 = np.random.randint(1, 11, size=(1, 3))\n",
    "v2 = np.random.randint(1, 11, size=(3, 1))\n",
    "\n",
    "print(v1, end='\\n\\n')\n",
    "print(v2, end='\\n\\n')\n",
    "it = np.nditer([v1,v2,None])\n",
    "for x,y,z in it: z[...] = x + y\n",
    "print(it.operands[2])"
   ]
  },
  {
   "cell_type": "markdown",
   "metadata": {},
   "source": [
    "#### 63. Create an array class that has a name attribute (★★☆)"
   ]
  },
  {
   "cell_type": "code",
   "execution_count": 115,
   "metadata": {},
   "outputs": [],
   "source": [
    "class myarray(np.ndarray):\n",
    "    \n",
    "    def __new__(cls, array, name=\"anton\", *args, **kwargs):\n",
    "        obj = np.asarray(array).view(cls)\n",
    "        obj.name = name\n",
    "        return obj\n",
    "\n",
    "# The docs say I don't need to use this function    \n",
    "#     def __init__(self, *args, **kwargs):\n",
    "#         # in practice you probably will not need or want an __init__\n",
    "#         # method for your subclass\n",
    "#         print('In __init__ with class %s' % self.__class__)\n",
    "\n",
    "    def __array_finalize__(self, obj):\n",
    "        print('In array_finalize:')\n",
    "        print('   self type is %s' % type(self))\n",
    "        print('   obj type is %s' % type(obj))"
   ]
  },
  {
   "cell_type": "code",
   "execution_count": 116,
   "metadata": {},
   "outputs": [
    {
     "name": "stdout",
     "output_type": "stream",
     "text": [
      "In array_finalize:\n",
      "   self type is <class '__main__.myarray'>\n",
      "   obj type is <class 'numpy.ndarray'>\n"
     ]
    },
    {
     "data": {
      "text/plain": [
       "'anton'"
      ]
     },
     "execution_count": 116,
     "metadata": {},
     "output_type": "execute_result"
    }
   ],
   "source": [
    "myarray(np.ndarray(2)).name"
   ]
  },
  {
   "cell_type": "markdown",
   "metadata": {},
   "source": [
    "![hacks](https://i.redd.it/kgcp5qeifep51.jpg)"
   ]
  },
  {
   "cell_type": "markdown",
   "metadata": {},
   "source": [
    "#### 64. Consider a given vector, how to add 1 to each element indexed by a second vector (be careful with repeated indices)? (★★★)"
   ]
  },
  {
   "cell_type": "code",
   "execution_count": 117,
   "metadata": {},
   "outputs": [
    {
     "name": "stdout",
     "output_type": "stream",
     "text": [
      "Original Z\n",
      "[1. 1. 1. 1. 1.]\n",
      "\n",
      "Generated Index Numbers\n",
      "[4 2 0 1 2]\n",
      "\n",
      "Unique indexes that will be modified\n",
      "[0 1 2 4]\n",
      "\n",
      "Indecies that will be changed: [0 1 2 4]\n",
      "[2. 2. 3. 1. 2.]\n"
     ]
    }
   ],
   "source": [
    "Z = np.ones(5)\n",
    "print(\"Original Z\")\n",
    "print(Z, end='\\n\\n')\n",
    "\n",
    "# Randomly generated indexes. The total number generate for a\n",
    "# given index will have that many 1's added to it.\n",
    "print(\"Generated Index Numbers\")\n",
    "I = np.random.randint(0,len(Z),5)\n",
    "np.add.at(Z, I, 1)\n",
    "indecies_to_add_one = np.unique(I)\n",
    "print(I, end='\\n\\n')\n",
    "\n",
    "print(\"Unique indexes that will be modified\")\n",
    "print(np.unique(I), end='\\n\\n')\n",
    "\n",
    "print(f\"Indecies that will be changed: {indecies_to_add_one}\")\n",
    "print(Z)"
   ]
  },
  {
   "cell_type": "markdown",
   "metadata": {},
   "source": [
    "#### 65. How to accumulate elements of a vector (X) to an array (F) based on an index list (I)? (★★★)"
   ]
  },
  {
   "cell_type": "code",
   "execution_count": 118,
   "metadata": {},
   "outputs": [
    {
     "name": "stdout",
     "output_type": "stream",
     "text": [
      "[ 2.  4.  6.  8. 10.]\n"
     ]
    }
   ],
   "source": [
    "I = [0,1,2,3,4]\n",
    "X = [2,4,6,8,10]\n",
    "\n",
    "F = np.bincount(I,X)\n",
    "print(F)"
   ]
  },
  {
   "cell_type": "code",
   "execution_count": 119,
   "metadata": {},
   "outputs": [
    {
     "name": "stdout",
     "output_type": "stream",
     "text": [
      "[22.  0.  4.  0.  6.  0.  8.  0.  0.  0. 10.]\n"
     ]
    }
   ],
   "source": [
    "I = [0,2,4,6,10]\n",
    "X = [22,4,6,8,10]\n",
    "\n",
    "# Interesting, the length of `F` is the same length as the largest value in `I`\n",
    "F = np.bincount(I,X)\n",
    "print(F)"
   ]
  },
  {
   "cell_type": "markdown",
   "metadata": {},
   "source": [
    "#### 66. Considering a (w,h,3) image of (dtype=ubyte), compute the number of unique colors (★★★)"
   ]
  },
  {
   "cell_type": "markdown",
   "metadata": {},
   "source": [
    "[From the docs](https://numpy.org/devdocs/reference/arrays.scalars.html#numpy.ubyte)\n",
    "This is a tricky one. It requires the programmer to know that ubyte dtypes only have a max value of 255.\n",
    "> numpy.uint8: 8-bit unsigned integer (0 to 255).\n",
    "\n"
   ]
  },
  {
   "cell_type": "code",
   "execution_count": 175,
   "metadata": {},
   "outputs": [
    {
     "name": "stdout",
     "output_type": "stream",
     "text": [
      "[0 1]\n"
     ]
    }
   ],
   "source": [
    "h, w = 16,16\n",
    "# The number of unique colors will always be equal to the range of randint(start, stop:exclusive)\n",
    "I = np.random.randint(0,2,(h,w,3)).astype(np.ubyte)\n",
    "# The color channels, \n",
    "F = I[...,0]*255*255 + I[...,1]*255 + I[...,1]\n",
    "n = len(np.unique(F))\n",
    "print(np.unique(I))"
   ]
  },
  {
   "cell_type": "markdown",
   "metadata": {},
   "source": [
    "#### 67. Considering a four dimensions array, how to get sum over the last two axis at once? (★★★)"
   ]
  },
  {
   "cell_type": "code",
   "execution_count": 185,
   "metadata": {},
   "outputs": [
    {
     "name": "stdout",
     "output_type": "stream",
     "text": [
      "Summing over the last two axis using negative indexing\n",
      "[[22 33 26 32]\n",
      " [34 38 37 34]\n",
      " [28 22 37 30]\n",
      " [26 39 23 34]]\n",
      "\n",
      "Summing over the last two axis using normal indexing\n",
      "[[22 33 26 32]\n",
      " [34 38 37 34]\n",
      " [28 22 37 30]\n",
      " [26 39 23 34]]\n"
     ]
    }
   ],
   "source": [
    "tesseract = np.random.randint(0, 5, (4, 4, 4, 4))\n",
    "print(\"Summing over the last two axis using negative indexing\")\n",
    "print(tesseract.sum(axis=(-2, -1)), end='\\n\\n')\n",
    "print(\"Summing over the last two axis using normal indexing\")\n",
    "print(tesseract.sum(axis=(2, 3)))"
   ]
  },
  {
   "cell_type": "markdown",
   "metadata": {},
   "source": [
    "#### 68. Considering a one-dimensional vector D, how to compute means of subsets of D using a vector S of same size describing subset  indices? (★★★)\n",
    "\n",
    "Any random value generator < 50 values will result in a division error, `np.nan` values."
   ]
  },
  {
   "cell_type": "code",
   "execution_count": 200,
   "metadata": {},
   "outputs": [
    {
     "name": "stdout",
     "output_type": "stream",
     "text": [
      "[0.39755625 0.5292146  0.43594783 0.59125572 0.53262254]\n"
     ]
    }
   ],
   "source": [
    "# Create a random vector of values\n",
    "S = np.random.randint(0,5,50)\n",
    "# Weights are multiplied, indexed with same length\n",
    "D = np.random.uniform(0,1,50)\n",
    "\n",
    "# The weighted subset sums of S times D(weight), say that 3 times fast.\n",
    "D_sums = np.bincount(S, weights=D)\n",
    "\n",
    "# Calculate the subset bin values used to calculate D_sums.\n",
    "D_counts = np.bincount(S)\n",
    "\n",
    "# Each subset mean will be divided by the number of observations in that subset.\n",
    "D_means = D_sums / D_counts\n",
    "print(D_means)"
   ]
  },
  {
   "cell_type": "code",
   "execution_count": 202,
   "metadata": {},
   "outputs": [
    {
     "name": "stdout",
     "output_type": "stream",
     "text": [
      "[0.61006632 0.30720711 0.95794312 0.51859537 0.51377897 0.92351411\n",
      " 0.45224088 0.01613112 0.61084733 0.58129854 0.69715356 0.00769428\n",
      " 0.10343396 0.54504702 0.02286333 0.39047916 0.67115699 0.12209702\n",
      " 0.40488685 0.50920753 0.07795492 0.84118391 0.90292721 0.54586573\n",
      " 0.13187749 0.70250898 0.31568354 0.45612984 0.54780399 0.19737986\n",
      " 0.4782669  0.68268355 0.67217734 0.72864497 0.91577354 0.90376285\n",
      " 0.12626844 0.94439185 0.4011609  0.50621531 0.51109817 0.78068937\n",
      " 0.58849221 0.26910579 0.33585897 0.43727615 0.62251049 0.81734836\n",
      " 0.19584405 0.11189227]\n",
      "\n",
      "[2 2 4 2 1 4 4 2 2 1 3 4 2 0 3 0 2 0 2 3 4 3 3 1 0 3 1 4 3 1 4 0 0 1 3 2 0\n",
      " 2 0 0 1 1 1 2 3 3 4 4 2 2]\n",
      "\n",
      "[3.57800622 4.76293136 5.66732185 5.91255716 4.7936029 ]\n",
      "\n",
      "[ 9  9 13 10  9]\n",
      "\n",
      "[0.39755625 0.5292146  0.43594783 0.59125572 0.53262254]\n",
      "\n"
     ]
    }
   ],
   "source": [
    "# Print for visual purposes.\n",
    "print(D, end='\\n\\n')\n",
    "print(S, end='\\n\\n')\n",
    "print(D_sums, end='\\n\\n')\n",
    "print(D_counts, end='\\n\\n')\n",
    "print(D_means, end='\\n\\n')"
   ]
  },
  {
   "cell_type": "markdown",
   "metadata": {},
   "source": [
    "#### 69. How to get the diagonal of a dot product? (★★★)"
   ]
  },
  {
   "cell_type": "code",
   "execution_count": 244,
   "metadata": {},
   "outputs": [
    {
     "name": "stdout",
     "output_type": "stream",
     "text": [
      "(4, 4)\n"
     ]
    }
   ],
   "source": [
    "A = np.arange(0, 16).reshape(4, 4)\n",
    "B = np.arange(0, 16).reshape(4, 4)\n",
    "print((A * B.T).shape)"
   ]
  },
  {
   "cell_type": "code",
   "execution_count": 245,
   "metadata": {},
   "outputs": [
    {
     "data": {
      "text/plain": [
       "array([[  0,   4,  16,  36],\n",
       "       [  4,  25,  54,  91],\n",
       "       [ 16,  54, 100, 154],\n",
       "       [ 36,  91, 154, 225]])"
      ]
     },
     "execution_count": 245,
     "metadata": {},
     "output_type": "execute_result"
    }
   ],
   "source": [
    "A * B.T"
   ]
  },
  {
   "cell_type": "code",
   "execution_count": 246,
   "metadata": {},
   "outputs": [
    {
     "data": {
      "text/plain": [
       "array([  0,  25, 100, 225])"
      ]
     },
     "execution_count": 246,
     "metadata": {},
     "output_type": "execute_result"
    }
   ],
   "source": [
    "dot_product = A * B.T\n",
    "np.diag(dot_product)"
   ]
  },
  {
   "cell_type": "code",
   "execution_count": 247,
   "metadata": {},
   "outputs": [
    {
     "data": {
      "text/plain": [
       "array([  0,  25, 100, 225])"
      ]
     },
     "execution_count": 247,
     "metadata": {},
     "output_type": "execute_result"
    }
   ],
   "source": [
    "np.diag(A * B.T)"
   ]
  },
  {
   "cell_type": "markdown",
   "metadata": {},
   "source": [
    "#### 70. Consider the vector [1, 2, 3, 4, 5], how to build a new vector with 3 consecutive zeros interleaved between each value? (★★★)"
   ]
  },
  {
   "cell_type": "code",
   "execution_count": 262,
   "metadata": {},
   "outputs": [
    {
     "name": "stdout",
     "output_type": "stream",
     "text": [
      "[1. 0. 0. 0. 2. 0. 0. 0. 3. 0. 0. 0. 4. 0. 0. 0. 5.]\n"
     ]
    }
   ],
   "source": [
    "V = [1, 2, 3, 4, 5]\n",
    "# I = [0, 4, 8, 12, 16]\n",
    "\n",
    "# Number of zeros\n",
    "fill_zeros = 3\n",
    "\n",
    "# This formula places n number of zeros between each value where n is the multiplier - 1\n",
    "# Add one because each value holds a place in the new vector F\n",
    "I = np.arange(len(V)) * (fill_zeros+1)\n",
    "\n",
    "# Interesting, the length of `F` is the same length as the largest value in `I`\n",
    "F = np.bincount(I,v)\n",
    "print(F)"
   ]
  },
  {
   "cell_type": "markdown",
   "metadata": {},
   "source": [
    "#### 71. Consider an array of dimension (5,5,3), how to mulitply it by an array with dimensions (5,5)? (★★★)"
   ]
  },
  {
   "cell_type": "code",
   "execution_count": null,
   "metadata": {},
   "outputs": [],
   "source": []
  },
  {
   "cell_type": "markdown",
   "metadata": {},
   "source": [
    "#### 72. How to swap two rows of an array? (★★★)"
   ]
  },
  {
   "cell_type": "code",
   "execution_count": null,
   "metadata": {},
   "outputs": [],
   "source": []
  },
  {
   "cell_type": "markdown",
   "metadata": {},
   "source": [
    "#### 73. Consider a set of 10 triplets describing 10 triangles (with shared vertices), find the set of unique line segments composing all the  triangles (★★★)"
   ]
  },
  {
   "cell_type": "code",
   "execution_count": null,
   "metadata": {},
   "outputs": [],
   "source": []
  },
  {
   "cell_type": "markdown",
   "metadata": {},
   "source": [
    "#### 74. Given an array C that is a bincount, how to produce an array A such that np.bincount(A) == C? (★★★)"
   ]
  },
  {
   "cell_type": "code",
   "execution_count": null,
   "metadata": {},
   "outputs": [],
   "source": []
  },
  {
   "cell_type": "markdown",
   "metadata": {},
   "source": [
    "#### 75. How to compute averages using a sliding window over an array? (★★★)"
   ]
  },
  {
   "cell_type": "code",
   "execution_count": null,
   "metadata": {},
   "outputs": [],
   "source": []
  },
  {
   "cell_type": "markdown",
   "metadata": {},
   "source": [
    "#### 76. Consider a one-dimensional array Z, build a two-dimensional array whose first row is (Z[0],Z[1],Z[2]) and each subsequent row is  shifted by 1 (last row should be (Z[-3],Z[-2],Z[-1]) (★★★)"
   ]
  },
  {
   "cell_type": "code",
   "execution_count": null,
   "metadata": {},
   "outputs": [],
   "source": []
  },
  {
   "cell_type": "markdown",
   "metadata": {},
   "source": [
    "#### 77. How to negate a boolean, or to change the sign of a float inplace? (★★★)"
   ]
  },
  {
   "cell_type": "code",
   "execution_count": null,
   "metadata": {},
   "outputs": [],
   "source": []
  },
  {
   "cell_type": "markdown",
   "metadata": {},
   "source": [
    "#### 78. Consider 2 sets of points P0,P1 describing lines (2d) and a point p, how to compute distance from p to each line i (P0[i],P1[i])? (★★★)"
   ]
  },
  {
   "cell_type": "code",
   "execution_count": null,
   "metadata": {},
   "outputs": [],
   "source": []
  },
  {
   "cell_type": "markdown",
   "metadata": {},
   "source": [
    "#### 79. Consider 2 sets of points P0,P1 describing lines (2d) and a set of points P, how to compute distance from each point j (P[j]) to each line i (P0[i],P1[i])? (★★★)"
   ]
  },
  {
   "cell_type": "code",
   "execution_count": null,
   "metadata": {},
   "outputs": [],
   "source": []
  },
  {
   "cell_type": "markdown",
   "metadata": {},
   "source": [
    "#### 80. Consider an arbitrary array, write a function that extract a subpart with a fixed shape and centered on a given element (pad with a `fill` value when necessary) (★★★)"
   ]
  },
  {
   "cell_type": "code",
   "execution_count": null,
   "metadata": {},
   "outputs": [],
   "source": []
  },
  {
   "cell_type": "markdown",
   "metadata": {},
   "source": [
    "#### 81. Consider an array Z = [1,2,3,4,5,6,7,8,9,10,11,12,13,14], how to generate an array R = [[1,2,3,4], [2,3,4,5], [3,4,5,6], ..., [11,12,13,14]]? (★★★)"
   ]
  },
  {
   "cell_type": "code",
   "execution_count": null,
   "metadata": {},
   "outputs": [],
   "source": []
  },
  {
   "cell_type": "markdown",
   "metadata": {},
   "source": [
    "#### 82. Compute a matrix rank (★★★)"
   ]
  },
  {
   "cell_type": "code",
   "execution_count": null,
   "metadata": {},
   "outputs": [],
   "source": []
  },
  {
   "cell_type": "markdown",
   "metadata": {},
   "source": [
    "#### 83. How to find the most frequent value in an array?"
   ]
  },
  {
   "cell_type": "code",
   "execution_count": null,
   "metadata": {},
   "outputs": [],
   "source": []
  },
  {
   "cell_type": "markdown",
   "metadata": {},
   "source": [
    "#### 84. Extract all the contiguous 3x3 blocks from a random 10x10 matrix (★★★)"
   ]
  },
  {
   "cell_type": "code",
   "execution_count": null,
   "metadata": {},
   "outputs": [],
   "source": []
  },
  {
   "cell_type": "markdown",
   "metadata": {},
   "source": [
    "#### 85. Create a 2D array subclass such that Z[i,j] == Z[j,i] (★★★)"
   ]
  },
  {
   "cell_type": "code",
   "execution_count": null,
   "metadata": {},
   "outputs": [],
   "source": []
  },
  {
   "cell_type": "markdown",
   "metadata": {},
   "source": [
    "#### 86. Consider a set of p matrices wich shape (n,n) and a set of p vectors with shape (n,1). How to compute the sum of of the p matrix products at once? (result has shape (n,1)) (★★★)"
   ]
  },
  {
   "cell_type": "code",
   "execution_count": null,
   "metadata": {},
   "outputs": [],
   "source": []
  },
  {
   "cell_type": "markdown",
   "metadata": {},
   "source": [
    "#### 87. Consider a 16x16 array, how to get the block-sum (block size is 4x4)? (★★★)"
   ]
  },
  {
   "cell_type": "code",
   "execution_count": null,
   "metadata": {},
   "outputs": [],
   "source": []
  },
  {
   "cell_type": "markdown",
   "metadata": {},
   "source": [
    "#### 88. How to implement the Game of Life using numpy arrays? (★★★)"
   ]
  },
  {
   "cell_type": "code",
   "execution_count": null,
   "metadata": {},
   "outputs": [],
   "source": []
  },
  {
   "cell_type": "markdown",
   "metadata": {},
   "source": [
    "#### 89. How to get the n largest values of an array (★★★)"
   ]
  },
  {
   "cell_type": "code",
   "execution_count": null,
   "metadata": {},
   "outputs": [],
   "source": []
  },
  {
   "cell_type": "markdown",
   "metadata": {},
   "source": [
    "#### 90. Given an arbitrary number of vectors, build the cartesian product (every combinations of every item) (★★★)"
   ]
  },
  {
   "cell_type": "code",
   "execution_count": null,
   "metadata": {},
   "outputs": [],
   "source": []
  },
  {
   "cell_type": "markdown",
   "metadata": {},
   "source": [
    "#### 91. How to create a record array from a regular array? (★★★)"
   ]
  },
  {
   "cell_type": "code",
   "execution_count": null,
   "metadata": {},
   "outputs": [],
   "source": []
  },
  {
   "cell_type": "markdown",
   "metadata": {},
   "source": [
    "#### 92. Consider a large vector Z, compute Z to the power of 3 using 3 different methods (★★★)"
   ]
  },
  {
   "cell_type": "code",
   "execution_count": null,
   "metadata": {},
   "outputs": [],
   "source": []
  },
  {
   "cell_type": "markdown",
   "metadata": {},
   "source": [
    "#### 93. Consider two arrays A and B of shape (8,3) and (2,2). How to find rows of A that contain elements of each row of B regardless of the order of the elements in B? (★★★)"
   ]
  },
  {
   "cell_type": "code",
   "execution_count": null,
   "metadata": {},
   "outputs": [],
   "source": []
  },
  {
   "cell_type": "markdown",
   "metadata": {},
   "source": [
    "#### 94. Considering a 10x3 matrix, extract rows with unequal values (e.g. [2,2,3]) (★★★)"
   ]
  },
  {
   "cell_type": "code",
   "execution_count": null,
   "metadata": {},
   "outputs": [],
   "source": []
  },
  {
   "cell_type": "markdown",
   "metadata": {},
   "source": [
    "#### 95. Convert a vector of ints into a matrix binary representation (★★★)"
   ]
  },
  {
   "cell_type": "code",
   "execution_count": null,
   "metadata": {},
   "outputs": [],
   "source": []
  },
  {
   "cell_type": "markdown",
   "metadata": {},
   "source": [
    "#### 96. Given a two dimensional array, how to extract unique rows? (★★★)"
   ]
  },
  {
   "cell_type": "code",
   "execution_count": null,
   "metadata": {},
   "outputs": [],
   "source": []
  },
  {
   "cell_type": "markdown",
   "metadata": {},
   "source": [
    "#### 97. Considering 2 vectors A & B, write the einsum equivalent of inner, outer, sum, and mul function (★★★)"
   ]
  },
  {
   "cell_type": "code",
   "execution_count": null,
   "metadata": {},
   "outputs": [],
   "source": []
  },
  {
   "cell_type": "markdown",
   "metadata": {},
   "source": [
    "#### 98. Considering a path described by two vectors (X,Y), how to sample it using equidistant samples (★★★)?"
   ]
  },
  {
   "cell_type": "code",
   "execution_count": null,
   "metadata": {},
   "outputs": [],
   "source": []
  },
  {
   "cell_type": "markdown",
   "metadata": {},
   "source": [
    "#### 99. Given an integer n and a 2D array X, select from X the rows which can be interpreted as draws from a multinomial distribution with n degrees, i.e., the rows which only contain integers and which sum to n. (★★★)"
   ]
  },
  {
   "cell_type": "code",
   "execution_count": null,
   "metadata": {},
   "outputs": [],
   "source": []
  },
  {
   "cell_type": "markdown",
   "metadata": {},
   "source": [
    "#### 100. Compute bootstrapped 95% confidence intervals for the mean of a 1D array X (i.e., resample the elements of an array with replacement N times, compute the mean of each sample, and then compute percentiles over the means). (★★★)"
   ]
  },
  {
   "cell_type": "code",
   "execution_count": null,
   "metadata": {},
   "outputs": [],
   "source": []
  }
 ],
 "metadata": {
  "kernelspec": {
   "display_name": "Python 3",
   "language": "python",
   "name": "python3"
  },
  "language_info": {
   "codemirror_mode": {
    "name": "ipython",
    "version": 3
   },
   "file_extension": ".py",
   "mimetype": "text/x-python",
   "name": "python",
   "nbconvert_exporter": "python",
   "pygments_lexer": "ipython3",
   "version": "3.7.6"
  }
 },
 "nbformat": 4,
 "nbformat_minor": 4
}
